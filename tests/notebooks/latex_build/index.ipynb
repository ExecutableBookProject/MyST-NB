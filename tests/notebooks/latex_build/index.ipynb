{
 "cells": [
  {
   "cell_type": "markdown",
   "metadata": {},
   "source": [
    "# MyST: An example project\n",
    "\n",
    "```{toctree}\n",
    "other\n",
    "```"
   ]
  },
  {
   "cell_type": "markdown",
   "metadata": {},
   "source": [
    "# Multi output test."
   ]
  },
  {
   "cell_type": "code",
   "execution_count": 1,
   "metadata": {},
   "outputs": [
    {
     "name": "stdout",
     "output_type": "stream",
     "text": [
      "text/plain\n"
     ]
    },
    {
     "data": {
      "text/markdown": [
       "# A markdown output\n",
       "\n",
       "```{toctree}\n",
       "other\n",
       "```"
      ],
      "text/plain": [
       "<IPython.core.display.Markdown object>"
      ]
     },
     "metadata": {},
     "output_type": "display_data"
    },
    {
     "name": "stdout",
     "output_type": "stream",
     "text": [
      "Another output\n"
     ]
    }
   ],
   "source": [
    "import IPython\n",
    "print('text/plain')\n",
    "IPython.display.display(IPython.display.Markdown(\"\"\"# A markdown output\n",
    "\n",
    "```{toctree}\n",
    "other\n",
    "```\"\"\"))\n",
    "print('Another output')"
   ]
  }
 ],
 "metadata": {
  "kernelspec": {
   "display_name": "Python 3",
   "language": "python",
   "name": "python3"
  },
  "language_info": {
   "codemirror_mode": {
    "name": "ipython",
    "version": 3
   },
   "file_extension": ".py",
   "mimetype": "text/x-python",
   "name": "python",
   "nbconvert_exporter": "python",
   "pygments_lexer": "ipython3",
   "version": "3.7.6"
  }
 },
 "nbformat": 4,
 "nbformat_minor": 4
}
