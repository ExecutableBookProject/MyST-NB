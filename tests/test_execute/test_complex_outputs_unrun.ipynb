{
 "cells": [
  {
   "cell_type": "code",
   "execution_count": 1,
   "metadata": {
    "init_cell": true,
    "slideshow": {
     "slide_type": "skip"
    }
   },
   "outputs": [],
   "source": [
    "from ipypublish import nb_setup\n",
    "plt = nb_setup.setup_matplotlib(print_errors=True, output=('svg',))\n",
    "pd = nb_setup.setup_pandas(escape_latex=True)\n",
    "sym = nb_setup.setup_sympy()\n",
    "import numpy as np\n",
    "from IPython.display import Image, Latex"
   ]
  },
  {
   "cell_type": "markdown",
   "metadata": {
    "ipub": {
     "slide": true
    }
   },
   "source": [
    "# Markdown"
   ]
  },
  {
   "cell_type": "markdown",
   "metadata": {
    "ipub": {
     "slide": true
    }
   },
   "source": [
    "## General"
   ]
  },
  {
   "cell_type": "markdown",
   "metadata": {
    "ipub": {
     "slide": true
    }
   },
   "source": [
    "Some markdown text.\n",
    "\n",
    "A list:\n",
    "\n",
    "- something\n",
    "- something else\n",
    "\n",
    "A numbered list\n",
    "\n",
    "1. something\n",
    "2. something else\n",
    "\n",
    "non-ascii characters TODO"
   ]
  },
  {
   "cell_type": "markdown",
   "metadata": {
    "ipub": {}
   },
   "source": [
    "This is a long section of text, which we only want in a document (not a presentation)\n",
    "some text\n",
    "some more text\n",
    "some more text\n",
    "some more text\n",
    "some more text\n",
    "some more text\n",
    "some more text\n",
    "some more text\n",
    "some more text\n"
   ]
  },
  {
   "cell_type": "markdown",
   "metadata": {
    "ipub": {
     "slide": true,
     "slideonly": true
    }
   },
   "source": [
    "This is an abbreviated section of the document text, which we only want in a presentation\n",
    "\n",
    "- summary of document text"
   ]
  },
  {
   "cell_type": "markdown",
   "metadata": {
    "ipub": {
     "slide": true
    }
   },
   "source": [
    "## References and Citations"
   ]
  },
  {
   "cell_type": "markdown",
   "metadata": {
    "ipub": {
     "slide": true
    }
   },
   "source": [
    "References to \\cref{fig:example}, \\cref{tbl:example}, =@eqn:example_sympy and \\cref{code:example_mpl}.\n",
    "\n",
    "A latex citation.\\cite{zelenyak_molecular_2016}\n",
    "\n",
    "A html citation.<cite data-cite=\"kirkeminde_thermodynamic_2012\">(Kirkeminde, 2012)</cite> "
   ]
  },
  {
   "cell_type": "markdown",
   "metadata": {
    "ipub": {
     "slide": true
    }
   },
   "source": [
    "## Todo notes"
   ]
  },
  {
   "cell_type": "markdown",
   "metadata": {
    "ipub": {
     "slide": true
    }
   },
   "source": [
    "\\todo[inline]{an inline todo}\n",
    "\n",
    "Some text.\\todo{a todo in the margins}"
   ]
  },
  {
   "cell_type": "markdown",
   "metadata": {},
   "source": [
    "# Text Output"
   ]
  },
  {
   "cell_type": "code",
   "execution_count": 2,
   "metadata": {
    "ipub": {
     "text": {
      "format": {
       "backgroundcolor": "\\color{blue!10}"
      }
     }
    }
   },
   "outputs": [
    {
     "name": "stdout",
     "output_type": "stream",
     "text": [
      "\n",
      "This is some printed text,\n",
      "with a nicely formatted output.\n",
      "\n"
     ]
    }
   ],
   "source": [
    "print(\"\"\"\n",
    "This is some printed text,\n",
    "with a nicely formatted output.\n",
    "\"\"\")"
   ]
  },
  {
   "cell_type": "markdown",
   "metadata": {},
   "source": [
    "# Images and Figures"
   ]
  },
  {
   "cell_type": "markdown",
   "metadata": {},
   "source": [
    "## Displaying a plot with its code"
   ]
  },
  {
   "cell_type": "markdown",
   "metadata": {
    "ipub": {
     "caption": "fig:example_mpl"
    }
   },
   "source": [
    "A matplotlib figure, with the caption set in the markdowncell above the figure."
   ]
  },
  {
   "cell_type": "markdown",
   "metadata": {
    "ipub": {
     "caption": "code:example_mpl"
    }
   },
   "source": [
    "The plotting code for a matplotlib figure (\\cref{fig:example_mpl})."
   ]
  },
  {
   "cell_type": "markdown",
   "metadata": {
    "slideshow": {
     "slide_type": "slide"
    }
   },
   "source": [
    "# Tables (with pandas)"
   ]
  },
  {
   "cell_type": "markdown",
   "metadata": {
    "ipub": {
     "caption": "code:example_pd"
    }
   },
   "source": [
    "The plotting code for a pandas Dataframe table (\\cref{tbl:example})."
   ]
  },
  {
   "cell_type": "code",
   "execution_count": 3,
   "metadata": {
    "ipub": {
     "code": {
      "asfloat": true,
      "caption": "",
      "label": "code:example_pd",
      "placement": "H",
      "widefigure": false
     },
     "table": {
      "alternate": "gray!20",
      "caption": "An example of a table created with pandas dataframe.",
      "label": "tbl:example",
      "placement": "H"
     }
    }
   },
   "outputs": [
    {
     "data": {
      "text/html": [
       "<div>\n",
       "<style scoped>\n",
       "    .dataframe tbody tr th:only-of-type {\n",
       "        vertical-align: middle;\n",
       "    }\n",
       "\n",
       "    .dataframe tbody tr th {\n",
       "        vertical-align: top;\n",
       "    }\n",
       "\n",
       "    .dataframe thead th {\n",
       "        text-align: right;\n",
       "    }\n",
       "</style>\n",
       "<table border=\"1\" class=\"dataframe\">\n",
       "  <thead>\n",
       "    <tr style=\"text-align: right;\">\n",
       "      <th></th>\n",
       "      <th>a</th>\n",
       "      <th>b</th>\n",
       "      <th>c</th>\n",
       "      <th>d</th>\n",
       "    </tr>\n",
       "  </thead>\n",
       "  <tbody>\n",
       "    <tr>\n",
       "      <th>0</th>\n",
       "      <td>$\\delta$</td>\n",
       "      <td>l</td>\n",
       "      <td>0.603</td>\n",
       "      <td>0.545</td>\n",
       "    </tr>\n",
       "    <tr>\n",
       "      <th>1</th>\n",
       "      <td>x</td>\n",
       "      <td>m</td>\n",
       "      <td>0.438</td>\n",
       "      <td>0.892</td>\n",
       "    </tr>\n",
       "    <tr>\n",
       "      <th>2</th>\n",
       "      <td>y</td>\n",
       "      <td>n</td>\n",
       "      <td>0.792</td>\n",
       "      <td>0.529</td>\n",
       "    </tr>\n",
       "  </tbody>\n",
       "</table>\n",
       "</div>"
      ],
      "text/latex": [
       "\\begin{tabular}{lllrr}\n",
       "\\toprule\n",
       "{} &         a &  b &      c &      d \\\\\n",
       "\\midrule\n",
       "0 &  \\$\\textbackslash delta\\$ &  l &  0.603 &  0.545 \\\\\n",
       "1 &         x &  m &  0.438 &  0.892 \\\\\n",
       "2 &         y &  n &  0.792 &  0.529 \\\\\n",
       "\\bottomrule\n",
       "\\end{tabular}\n"
      ],
      "text/plain": [
       "          a  b      c      d\n",
       "0  $\\delta$  l  0.603  0.545\n",
       "1         x  m  0.438  0.892\n",
       "2         y  n  0.792  0.529"
      ]
     },
     "execution_count": 3,
     "metadata": {},
     "output_type": "execute_result"
    }
   ],
   "source": [
    "np.random.seed(0) \n",
    "df = pd.DataFrame(np.random.rand(3,4),columns=['a','b','c','d'])\n",
    "df.a = ['$\\delta$','x','y']\n",
    "df.b = ['l','m','n']\n",
    "df.set_index(['a','b'])\n",
    "df.round(3)"
   ]
  },
  {
   "cell_type": "markdown",
   "metadata": {},
   "source": [
    "# Equations (with ipython or sympy)"
   ]
  },
  {
   "cell_type": "code",
   "execution_count": 4,
   "metadata": {
    "ipub": {
     "equation": {
      "label": "eqn:example_ipy"
     }
    }
   },
   "outputs": [
    {
     "data": {
      "text/latex": [
       "$$ a = b+c $$"
      ],
      "text/plain": [
       "<IPython.core.display.Latex object>"
      ]
     },
     "execution_count": 4,
     "metadata": {},
     "output_type": "execute_result"
    }
   ],
   "source": [
    "Latex('$$ a = b+c $$')"
   ]
  },
  {
   "cell_type": "markdown",
   "metadata": {
    "ipub": {
     "caption": "code:example_sym"
    }
   },
   "source": [
    "The plotting code for a sympy equation (=@eqn:example_sympy)."
   ]
  },
  {
   "cell_type": "code",
   "execution_count": 5,
   "metadata": {
    "ipub": {
     "code": {
      "asfloat": true,
      "caption": "",
      "label": "code:example_sym",
      "placement": "H",
      "widefigure": false
     },
     "equation": {
      "environment": "equation",
      "label": "eqn:example_sympy"
     }
    }
   },
   "outputs": [
    {
     "data": {
      "image/png": "[encoded data removed]",
      "text/latex": [
       "$\\displaystyle \\left(\\sqrt{5} i\\right)^{\\alpha} \\left(\\frac{1}{2} - \\frac{2 \\sqrt{5} i}{5}\\right) + \\left(- \\sqrt{5} i\\right)^{\\alpha} \\left(\\frac{1}{2} + \\frac{2 \\sqrt{5} i}{5}\\right)$"
      ],
      "text/plain": [
       "      \\alpha ⎛1   2⋅√5⋅ⅈ⎞          \\alpha ⎛1   2⋅√5⋅ⅈ⎞\n",
       "(√5⋅ⅈ)      ⋅⎜─ - ──────⎟ + (-√5⋅ⅈ)      ⋅⎜─ + ──────⎟\n",
       "             ⎝2     5   ⎠                 ⎝2     5   ⎠"
      ]
     },
     "execution_count": 5,
     "metadata": {},
     "output_type": "execute_result"
    }
   ],
   "source": [
    "y = sym.Function('y')\n",
    "n = sym.symbols(r'\\alpha')\n",
    "f = y(n)-2*y(n-1/sym.pi)-5*y(n-2)\n",
    "sym.rsolve(f,y(n),[1,4])"
   ]
  }
 ],
 "metadata": {
  "celltoolbar": "Edit Metadata",
  "hide_input": false,
  "ipub": {
   "bibliography": "example.bib",
   "biboptions": [
    "super",
    "sort"
   ],
   "bibstyle": "unsrtnat",
   "language": "portuges",
   "listcode": true,
   "listfigures": true,
   "listtables": true,
   "pandoc": {
    "at_notation": true,
    "use_numref": true
   },
   "sphinx": {
    "bib_title": "My Bibliography"
   },
   "titlepage": {
    "author": "Authors Name",
    "email": "authors@email.com",
    "institution": [
     "Institution1",
     "Institution2"
    ],
    "logo": "logo_example.png",
    "subtitle": "Sub-Title",
    "supervisors": [
     "First Supervisor",
     "Second Supervisor"
    ],
    "tagline": "A tagline for the report.",
    "title": "Main-Title"
   },
   "toc": {
    "depth": 2
   }
  },
  "jupytext": {
   "notebook_metadata_filter": "ipub"
  },
  "kernelspec": {
   "display_name": "Python 3",
   "language": "python",
   "name": "python3"
  },
  "language_info": {
   "codemirror_mode": {
    "name": "ipython",
    "version": 3
   },
   "file_extension": ".py",
   "mimetype": "text/x-python",
   "name": "python",
   "nbconvert_exporter": "python",
   "pygments_lexer": "ipython3",
   "version": "3.6.10"
  },
  "latex_envs": {
   "LaTeX_envs_menu_present": true,
   "autocomplete": true,
   "bibliofile": "example.bib",
   "cite_by": "apalike",
   "current_citInitial": 1,
   "eqLabelWithNumbers": true,
   "eqNumInitial": 1,
   "hotkeys": {
    "equation": "Ctrl-E",
    "itemize": "Ctrl-I"
   },
   "labels_anchors": false,
   "latex_user_defs": false,
   "report_style_numbering": false,
   "user_envs_cfg": true
  },
  "nav_menu": {},
  "toc": {
   "colors": {
    "hover_highlight": "#DAA520",
    "navigate_num": "#000000",
    "navigate_text": "#333333",
    "running_highlight": "#FF0000",
    "selected_highlight": "#FFD700",
    "sidebar_border": "#EEEEEE",
    "wrapper_background": "#FFFFFF"
   },
   "moveMenuLeft": true,
   "nav_menu": {
    "height": "161px",
    "width": "252px"
   },
   "navigate_menu": true,
   "number_sections": true,
   "sideBar": true,
   "threshold": 4,
   "toc_cell": false,
   "toc_section_display": "block",
   "toc_window_display": true,
   "widenNotebook": false
  },
  "varInspector": {
   "cols": {
    "lenName": 16,
    "lenType": 16,
    "lenVar": 40
   },
   "kernels_config": {
    "python": {
     "delete_cmd_postfix": "",
     "delete_cmd_prefix": "del ",
     "library": "var_list.py",
     "varRefreshCmd": "print(var_dic_list())"
    },
    "r": {
     "delete_cmd_postfix": ") ",
     "delete_cmd_prefix": "rm(",
     "library": "var_list.r",
     "varRefreshCmd": "cat(var_dic_list()) "
    }
   },
   "types_to_exclude": [
    "module",
    "function",
    "builtin_function_or_method",
    "instance",
    "_Feature"
   ],
   "window_display": false
  }
 },
 "nbformat": 4,
 "nbformat_minor": 2
}
