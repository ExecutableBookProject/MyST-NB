{
 "cells": [
  {
   "cell_type": "markdown",
   "metadata": {},
   "source": [
    "Hiding cell contents\n",
    "====================\n",
    "\n",
    "You can use Jupyter Notebook **cell tags** to control some of the behavior of\n",
    "the rendered notebook. This uses the [**`sphinx-togglebutton`**](https://sphinx-togglebutton.readthedocs.io/en/latest/)\n",
    "package to add a little button that toggles the visibility of content.\n",
    "\n",
    "(use/hiding/code)=\n",
    "\n",
    "# Hiding code cells\n",
    "\n",
    "You can **cell tags** to control the content hidden with code cells.\n",
    "Add the following tags to a cell's metadata to control\n",
    "what to hide in code cells:\n",
    "\n",
    "* **`hide_input`** tag to hide the cell inputs\n",
    "* **`hide_output`** to hide the cell outputs\n",
    "* **`hide_cell`** to hide the entire cell\n",
    "\n",
    "For example, we'll show cells with each below."
   ]
  },
  {
   "cell_type": "code",
   "execution_count": null,
   "metadata": {
    "tags": [
     "remove_cell"
    ]
   },
   "outputs": [],
   "source": [
    "import matplotlib.pyplot as plt\n",
    "import numpy as np\n",
    "data = np.random.rand(2, 100) * 100"
   ]
  },
  {
   "cell_type": "markdown",
   "metadata": {},
   "source": [
    "Here is a cell with a `hide_input` tag. Click the \"toggle\" button to the\n",
    "right to show it."
   ]
  },
  {
   "cell_type": "code",
   "execution_count": null,
   "metadata": {
    "tags": [
     "hide_input"
    ]
   },
   "outputs": [],
   "source": [
    "# This cell has a hide_input tag\n",
    "fig, ax = plt.subplots()\n",
    "ax.scatter(*data, c=data[0], s=data[0])"
   ]
  },
  {
   "cell_type": "markdown",
   "metadata": {},
   "source": [
    "Here's a cell with a `hide_output` tag:"
   ]
  },
  {
   "cell_type": "code",
   "execution_count": null,
   "metadata": {
    "tags": [
     "hide_output"
    ]
   },
   "outputs": [],
   "source": [
    "# This cell has a hide_output tag\n",
    "fig, ax = plt.subplots()\n",
    "ax.scatter(*data, c=data[0], s=data[0])"
   ]
  },
  {
   "cell_type": "markdown",
   "metadata": {},
   "source": [
    "And the following cell has a `hide_cell` tag:"
   ]
  },
  {
   "cell_type": "code",
   "execution_count": null,
   "metadata": {
    "tags": [
     "hide_cell"
    ]
   },
   "outputs": [],
   "source": [
    "# This cell has a hide_cell tag\n",
    "fig, ax = plt.subplots()\n",
    "ax.scatter(*data, c=data[0], s=data[0])"
   ]
  },
  {
   "cell_type": "markdown",
   "metadata": {},
   "source": [
    "(use/hiding/markdown)=\n",
    "\n",
    "# Hiding markdown cells\n",
    "\n",
    "There are two ways to hide markdown cells. First, **you can add the `hide_input`**\n",
    "cell metadata. This triggers the same hiding behavior described above for\n",
    "code cells."
   ]
  },
  {
   "cell_type": "markdown",
   "metadata": {
    "tags": [
     "hide_input"
    ]
   },
   "source": [
    "```{note}\n",
    "This cell was hidden by adding a `hide_input` tag to it!\n",
    "```"
   ]
  },
  {
   "cell_type": "markdown",
   "metadata": {},
   "source": [
    "You may also **use a Sphinx directive** to hide specific markdown content. This\n",
    "is possible by adding the **`.toggle`** class to any block-level directive\n",
    "that will allow for classes. For example, to the `container`, `note`, or `admonition`\n",
    "directives.\n",
    "\n",
    "For example, the hidden block below\n",
    "\n",
    "```{admonition} This cell was hidden with the toggle class\n",
    ":class: toggle\n",
    "Wow, a hidden block! ✨✨\n",
    "```\n",
    "\n",
    "Is generated with the following code:\n",
    "\n",
    "````\n",
    "```{admonition} This cell was hidden with the toggle class\n",
    ":class: toggle\n",
    "Wow, a hidden block! ✨✨\n",
    "```\n",
    "````\n",
    "\n",
    "\n",
    "`````{admonition} Don't add headings to toggle-able sections\n",
    "\n",
    "Note that containers for markdown (like notes, or this `container`\n",
    "directive) cannot have their own headings (ie, lines that start\n",
    "with `#`. If you'd like to use headings, do one of the following:\n",
    "\n",
    "* Use **bolded text** if you want to highlight sections of a\n",
    "  toggle-able section.\n",
    "* Use an **admonition** directive to control the title of the\n",
    "  message box (that's what this message box uses). Like so:\n",
    "  ````\n",
    "  ```{admonition} my admonition title\n",
    "  My admonition content\n",
    "  ```\n",
    "  ````\n",
    "`````"
   ]
  },
  {
   "cell_type": "markdown",
   "metadata": {},
   "source": [
    "(use/removing)=\n",
    "\n",
    "# Removing parts of cells\n",
    "\n",
    "Sometimes, you want to entirely remove parts of a cell so that it doesn't make it\n",
    "into the output at all. To do this, you can use the same tag pattern described above,\n",
    "but with the word `remove_` instead of `hide_`. Use the following tags:\n",
    "\n",
    "* **`remove_input`** tag to remove the cell inputs\n",
    "* **`remove_output`** to remove the cell outputs\n",
    "* **`remove_cell`** to remove the entire cell"
   ]
  },
  {
   "cell_type": "markdown",
   "metadata": {},
   "source": [
    "Here is a cell with a `remove_input` tag. The inputs will not make it into\n",
    "the page at all."
   ]
  },
  {
   "cell_type": "code",
   "execution_count": null,
   "metadata": {
    "tags": [
     "remove_input"
    ]
   },
   "outputs": [],
   "source": [
    "# This cell has a remove_input tag\n",
    "fig, ax = plt.subplots()\n",
    "ax.scatter(*data, c=data[0], s=data[0])"
   ]
  },
  {
   "cell_type": "markdown",
   "metadata": {},
   "source": [
    "Here's a cell with a `remove_output` tag:"
   ]
  },
  {
   "cell_type": "code",
   "execution_count": null,
   "metadata": {
    "tags": [
     "remove_output"
    ]
   },
   "outputs": [],
   "source": [
    "# This cell has a remove_output tag\n",
    "fig, ax = plt.subplots()\n",
    "ax.scatter(*data, c=data[0], s=data[0])"
   ]
  },
  {
   "cell_type": "markdown",
   "metadata": {},
   "source": [
    "And the following cell has a `remove_cell` tag (there should be nothing\n",
    "below, since the cell will be gone)."
   ]
  },
  {
   "cell_type": "code",
   "execution_count": null,
   "metadata": {
    "tags": [
     "remove_cell"
    ]
   },
   "outputs": [],
   "source": [
    "# This cell has a remove_cell tag\n",
    "fig, ax = plt.subplots()\n",
    "ax.scatter(*data, c=data[0], s=data[0])"
   ]
  }
 ],
 "metadata": {
  "kernelspec": {
   "display_name": "Python 3",
   "language": "python",
   "name": "python3"
  },
  "language_info": {
   "codemirror_mode": {
    "name": "ipython",
    "version": 3
   },
   "file_extension": ".py",
   "mimetype": "text/x-python",
   "name": "python",
   "nbconvert_exporter": "python",
   "pygments_lexer": "ipython3",
   "version": "3.7.6"
  }
 },
 "nbformat": 4,
 "nbformat_minor": 4
}
