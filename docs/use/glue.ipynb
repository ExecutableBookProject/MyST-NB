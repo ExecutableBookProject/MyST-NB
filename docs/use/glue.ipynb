{
 "cells": [
  {
   "cell_type": "markdown",
   "metadata": {},
   "source": [
    "(glue)=\n",
    "\n",
    "# Inserting variables into pages with `glue`"
   ]
  },
  {
   "cell_type": "markdown",
   "metadata": {},
   "source": [
    "You often wish to run analyses in one notebook and insert them into your\n",
    "documents text elsewhere. For example, if you'd like to include a figure,\n",
    "or if you want to cite a statistic that you have run.\n",
    "\n",
    "The **`glue` submodule** allows you to add a key to variables in a notebook,\n",
    "then display those variables in your book by referencing the key.\n",
    "\n",
    "This page describes how to add keys to variables in notebooks, and how to insert them\n",
    "into your book's content in a variety of ways."
   ]
  },
  {
   "cell_type": "markdown",
   "metadata": {},
   "source": [
    "(glue/gluing)=\n",
    "\n",
    "## Gluing variables in your notebook\n",
    "\n",
    "You can use `myst_nb.glue()` to assign value of a variable to\n",
    "a key of your choice. `glue` will store all of the information that is normally used to **display**\n",
    "that variable (ie, whatever happens when you display the variable by putting it at the end of a cell).\n",
    "Choose a key that you will remember, as you will use it later.\n",
    "\n",
    "The following code glues a variable inside the notebook:"
   ]
  },
  {
   "cell_type": "code",
   "execution_count": 1,
   "metadata": {},
   "outputs": [
    {
     "data": {
      "text/plain": [
       "'my variable!'"
      ]
     },
     "metadata": {
      "scrapbook": {
       "mime_prefix": "",
       "name": "my_variable"
      }
     },
     "output_type": "display_data"
    }
   ],
   "source": [
    "from myst_nb import glue\n",
    "a = \"my variable!\"\n",
    "glue(\"my_variable\", a)"
   ]
  },
  {
   "cell_type": "markdown",
   "metadata": {},
   "source": [
    "You can then insert it into your text like so: {glu:text}`my_variable`.\n",
    "\n",
    "That was accomplished with the following code: `` {glu:text}`my_variable` ``.\n",
    "\n",
    "### Gluing numbers, plots, and tables\n",
    "\n",
    "You can glue anything in your notebook and display it later with `{glu:}`. Here\n",
    "we'll show how to glue and paste **numbers and images**. We'll simulate some\n",
    "data and run a simple bootstrap on it. We'll hide most of this process below,\n",
    "to focus on the glueing part."
   ]
  },
  {
   "cell_type": "code",
   "execution_count": 2,
   "metadata": {
    "tags": [
     "hide_cell"
    ]
   },
   "outputs": [],
   "source": [
    "# Simulate some data and bootstrap the mean of the data\n",
    "import numpy as np\n",
    "import pandas as pd\n",
    "import matplotlib.pyplot as plt\n",
    "\n",
    "n_points = 10000\n",
    "n_boots = 1000\n",
    "mean, sd = (3, .2)\n",
    "data = sd*np.random.randn(n_points) + mean\n",
    "bootstrap_indices = np.random.randint(0, n_points, n_points*n_boots).reshape((n_boots, n_points))"
   ]
  },
  {
   "cell_type": "markdown",
   "metadata": {},
   "source": [
    "In the cell below, `data` contains our data, and `bootstrap_indices` is a collection of sample indices in each bootstrap. Below we'll calculate a few statistics of interest, and\n",
    "**`glue()`** them into the notebook."
   ]
  },
  {
   "cell_type": "code",
   "execution_count": 3,
   "metadata": {},
   "outputs": [
    {
     "data": {
      "text/plain": [
       "3.001206945957487"
      ]
     },
     "metadata": {
      "scrapbook": {
       "mime_prefix": "",
       "name": "boot_mean"
      }
     },
     "output_type": "display_data"
    },
    {
     "data": {
      "text/plain": [
       "2.988751181750824"
      ]
     },
     "metadata": {
      "scrapbook": {
       "mime_prefix": "",
       "name": "boot_clo"
      }
     },
     "output_type": "display_data"
    },
    {
     "data": {
      "text/plain": [
       "3.0135614326295035"
      ]
     },
     "metadata": {
      "scrapbook": {
       "mime_prefix": "",
       "name": "boot_chi"
      }
     },
     "output_type": "display_data"
    }
   ],
   "source": [
    "# Calculate the mean of a bunch of random samples\n",
    "means = data[bootstrap_indices].mean(0)\n",
    "# Calcualte the 95% confidence interval for the mean\n",
    "clo, chi = np.percentile(means, [2.5, 97.5])\n",
    "\n",
    "# Store the values in our notebook\n",
    "glue(\"boot_mean\", means.mean())\n",
    "glue(\"boot_clo\", clo)\n",
    "glue(\"boot_chi\", chi)"
   ]
  },
  {
   "cell_type": "markdown",
   "metadata": {},
   "source": [
    "By default, `glue` will display the value of the variable you are gluing. This\n",
    "is useful for sanity-checking its value at glue-time. If you'd like to **prevent display**,\n",
    "use the `display=False` option. Note that below, we also *overwrite* the value of\n",
    "`boot_chi` (but using the same value):"
   ]
  },
  {
   "cell_type": "code",
   "execution_count": 4,
   "metadata": {},
   "outputs": [
    {
     "data": {
      "application/papermill.record/text/plain": "3.0135614326295035"
     },
     "metadata": {
      "scrapbook": {
       "mime_prefix": "application/papermill.record/",
       "name": "boot_chi_notdisplayed"
      }
     },
     "output_type": "display_data"
    }
   ],
   "source": [
    "glue(\"boot_chi_notdisplayed\", chi, display=False)"
   ]
  },
  {
   "cell_type": "markdown",
   "metadata": {},
   "source": [
    "You can also glue visualizations, such as matplotlib figures (here we use `display=False` to ensure that the figure isn't plotted twice):"
   ]
  },
  {
   "cell_type": "code",
   "execution_count": 5,
   "metadata": {
    "scrolled": true
   },
   "outputs": [
    {
     "data": {
      "application/papermill.record/image/png": "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\n",
      "application/papermill.record/text/plain": "<Figure size 432x288 with 1 Axes>"
     },
     "metadata": {
      "scrapbook": {
       "mime_prefix": "application/papermill.record/",
       "name": "boot_fig"
      }
     },
     "output_type": "display_data"
    },
    {
     "data": {
      "application/papermill.record/image/png": "iVBORw0KGgoAAAANSUhEUgAAAV0AAAB7CAYAAADXClMoAAAABHNCSVQICAgIfAhkiAAAAAlwSFlzAAALEgAACxIB0t1+/AAAADh0RVh0U29mdHdhcmUAbWF0cGxvdGxpYiB2ZXJzaW9uMy4xLjEsIGh0dHA6Ly9tYXRwbG90bGliLm9yZy8QZhcZAAAKI0lEQVR4nO3dWaweZR3H8e9TSpFNdko3SltatrZshqVBRRJjhChojMsVRANeeCGS6I3hwhguuDEuiUYwIDeAMSYk4BJMUAMVCLsFSulCS09baYtt1SJ0e7z4z/DOOT0czjIz533f8/0kT2Y6p53nSS9+ec4zz5JyzkiS2jFtshsgSVOJoStJLTJ0JalFhq4ktcjQlaQWGbqS1CJDV5JaZOhKUosMXUlq0fTJboAkdZWUvgYsAjLwIDmvr/P1hq4kDXYj8Jni/nmg1tB1eEGSBkuV+9o3pzF0JWkwQ1eSWmToSlKLDF1JapGhK0ktMnQlqUWGriS1yNCVpBZVc/FQky+XJMGMyv3+ul9u6ErSYCdX7nfV/XJDV5IGO7Vyv7Pul6ecax8nlqTelNIRwIHKk+nkfLDOKuzpSlLHCZX7PXUHLhi6klR1YuW+9vFcMHQlqWpB5X57ExUYupLUsaxyv7qJCgxdSeq4tHL/ShMVGLqSBJDSscD1lSd/a6IaQ1eSwtXA8cX9APBME5UYupIUvlW5f4iGFjG4OEKSUroEeK74UwbOJefXm6jKnq6kqS2l44B7K09+11Tggj1dSVNZfDx7DLiseLIPuJCcX2uqyulNvViSulpKCXgCuKjy9DtNBi4YupKmopSmAbczOHBvJeefN161wwuSppTYSewu4OuVp78h56+2Ur2hK2nKSOlM4NfApypPNwPLyXl3G01w9oKk/pfSCaR0O7CKwYF7H7C4rcAFx3Ql9bOUTgVuJRY+VLdtzMCdwPfJufbDJ0di6ErqPyldBnwXuIHDc24tcBM5/731dg3TGEnqTSkdBXwDuJHOvNuqdcAPgfvJ+cAwP2+FoSupd6U0A/gE8GXgCww+VLL0DPAz4IHJDNuSoSupd6Q0nZhbe3VRPgkcN8zfPAA8DPyAnF9qq3mjYehK6l6Hh+zHgY+O8C+2AD8C7iXnRs44myhDV1L3GHvIQux9+whwP7Cy7dkIY2XoSpo8seHMlcDlwBXEcMHxI/6b6M3+tVLWN7X3bRMMXUntiNkF5wHLgUuAFcDFfHgO9XTIDmXoSqpfSmcQ4XphpZzL6DKnr0J2KENX0vildDKd3utS4HzgAuC0MbzlZeBx4Nniuq6fQnYoQ1fSyGLcdSGwBFhclAXAOcDsMb7tDeAl4B/A08BT5Pyv+hrb/QxdSeWG3nOIIF1SlPOI3uuccbxxL7G5TBmwLwGryPnftbS3hxm60lQS54EtoROu5wBnF9cPm5o1nHeB14mAfbkorwIbu33q1mQxdKV+Eht0n0n8+j+/uD8LWFSUsQ4HQKzu2kjsXbCmuK4nhgrWkvPBiTZ7KjF0pV6S0tFEcJZlLhGui4vrImDGON++G1hN9FzXFNdXiNkD+yfWcJUMXambpPQRondalrOIIF1CfMw6eYI17Cd6qdVgfb14trWfZw10C0NXalOEatlDXUgEajkMsJjx/fo/1FtEiG4E3izKhvefdcFOW1OZoSvVJbYZnEOE6DwiQOcQgTqvKGOZvzqcA8A2YGtRthChWobsOmcIdDdDVxqNTqDOJcJzbqXMIoJ1FpAmWNMhYgOXTcSBiRuJXupa4gPWP50V0NsMXSn2BJhJp4c6d5jrzJpqO0j0VAeIHuo6YhbAZqK3usmPVv3N0FX/SulI4HTi1/z5RE909pAyCzipphozEajlOOoAMQTwJhGqm4meqlOspjBDV70plqbOKcosIlxPJz5OLSR6qDOZ+K/7pUN0eqibi2tZtr1/n/O+mupTnzJ01V1iOeqJDB4zHa6MZ/XUBzkEbKfTQy1DtRqu2/zqrzoYumpPBOqpfHigHlNTjRnYQedX/i10vvqXZRvwtr/yqy2GruoRgXoaEZpzOHzFVPmR6qiaatxHZ8rUVmJu6k7iq/8G4qv/Nj9KqdsYuhqdOLuqnBo1r7ieTayUOqP489E11fYOh4+blmVLcd3p6in1IkNXZS/1JDpLT+cNcz8bOKKG2vYwfJhWyx4DVf3K0J0KOr3Us4m1/GWQVsO1jnHU3XR6o9Vf/TcV5U1y/k8N9Ug9y9DtdSkdQ4yXllOnyqWncyvXM4BpNdRWfuHfXFw3Aq9RBm3Ou2qoQ+prhm43S2ka8bW/XM8/nwjRBUSPdX7x8zrspTNlqhqs5XWAnN+tqS5pyjJ0J1usmlpAnJR6XlEWEeE6m/HvjTrUdjobUQ8XrLsdR5WaZ+i2Idb2LyDGVIeWs5jYB6r9dL70l7tPbaHzlb+c2P/eBOqQVBNDt04RrhcAy4ie6zlEz3UJ4x9TLT9ODRA91bJ3+gbxcWqbE/ul3mHojkecQ7WQCNelRLguBc5nfP+nA8Qu/quJD1NrKFdQ5by3jiZL6g6G7khi/urpRE/1CuAioud6PmNbWZXpbOM3tGwg53dqbLWkLmboluIYleXAxcW17LmOdXbABuBF4hjqNUV5xWCVBFM1dGPsdRnwsaJcSoTsWP4/3gJWFWV1UVaR8556Gyupn/R/6HYC9tJKWQYcOco3/JfY0f8F4GniSOpXyfnt+hsrqd/1X+imdBLwaeCqoixl9AG7FniO6L2+SATsZs+kklSX/gjdlJYD1wLXAVcyunmv64FniZB9FniBnHc31kZJohdDN2YUXAxcDawALidWb41kHRGuzwHPA8+7T4CkydAboRvzYq8herI3EHsOfJAMPAP8GXgCeMoerKRu0d2hm9JM4Gbgm4zcm90L/BF4GPgTOW9voXWSNGbdF7qx9+tnibC9luHHZ3cDfwAeB54k5sF6aKCkrtc9oRuLE24BbmP44YMdwIPAI8BfPPtKUi+a/NCND2PXAT8h9jMY6gngV8AD5LyvzaZJUt0mN3RTuga4k1gVVrUTuAe4h5zXtN4uSWrI5IRuSouAO4CvDPnJruL5L9yrQFI/ajd0YyjhZuDHDD6u+13gbuAOcn6r1TZJUovaC92UTgHuAr445Ce/BW4j54HW2iJJk6Sd0I39EB4jtkwsrQJuIeenWmmDJHWBOo7lHllKxwK/Z3Dg/hK40sCVNNW00dO9m9iEpnQTOd/XQr2S1HVSo6dup7QCWFl58m1y/mlzFUpSd2s6dB8l9rYFeIScP9dcZZLU/ZoL3ZTOJTYBL8eNryLnlSP8C0nqe01+SPte5f2PGriS1FRPNxZB7ABOKZ6sIOcn669IknpLU6G7iDitAWKv2+NpdPBYknpDU8ML11fuVxq4khSaCt2LKvcPNVSHJPWcpkL385X7TQ3VIUk9p6nQ3VG591BISSo0FbozKvdbG6pDknpOU6F7TOXezcglqWDoSlKL6p+nGwsjDgKpeDKdnA/WW4kk9aYmerpH0Qnc9wxcSepoInQdWpCkD9B06P6vgfdLUs9q4uSIXcCXiPA90MD7JalnNbuJuSRpkOYPppQkvc/QlaQWGbqS1CJDV5JaZOhKUosMXUlqkaErSS0ydCWpRYauJLXo/xfvjOKwfDXbAAAAAElFTkSuQmCC\n",
      "application/papermill.record/text/plain": "<Figure size 432x144 with 1 Axes>"
     },
     "metadata": {
      "scrapbook": {
       "mime_prefix": "application/papermill.record/",
       "name": "sorted_means_fig"
      }
     },
     "output_type": "display_data"
    },
    {
     "data": {
      "image/png": "[encoded data removed]",
      "text/plain": [
       "<Figure size 432x288 with 1 Axes>"
      ]
     },
     "metadata": {
      "needs_background": "light"
     },
     "output_type": "display_data"
    },
    {
     "data": {
      "image/png": "[encoded data removed]",
      "text/plain": [
       "<Figure size 432x144 with 1 Axes>"
      ]
     },
     "metadata": {
      "needs_background": "light"
     },
     "output_type": "display_data"
    }
   ],
   "source": [
    "# Visualize the historgram with the intervals\n",
    "fig, ax = plt.subplots()\n",
    "ax.hist(means)\n",
    "for ln in [clo, chi]:\n",
    "    ax.axvline(ln, ls='--', c='r')\n",
    "ax.set_title(\"Bootstrap distribution and 95% CI\")\n",
    "\n",
    "# And a wider figure to show a timeseries\n",
    "fig2, ax = plt.subplots(figsize=(6, 2))\n",
    "ax.plot(np.sort(means), lw=3, c='r')\n",
    "ax.set_axis_off()\n",
    "\n",
    "glue(\"boot_fig\", fig, display=False)\n",
    "glue(\"sorted_means_fig\", fig2, display=False)"
   ]
  },
  {
   "cell_type": "markdown",
   "metadata": {},
   "source": [
    "The same can be done for DataFrames (or other table-like objects) as well."
   ]
  },
  {
   "cell_type": "code",
   "execution_count": 6,
   "metadata": {},
   "outputs": [
    {
     "data": {
      "text/html": [
       "<div>\n",
       "<style scoped>\n",
       "    .dataframe tbody tr th:only-of-type {\n",
       "        vertical-align: middle;\n",
       "    }\n",
       "\n",
       "    .dataframe tbody tr th {\n",
       "        vertical-align: top;\n",
       "    }\n",
       "\n",
       "    .dataframe thead th {\n",
       "        text-align: right;\n",
       "    }\n",
       "</style>\n",
       "<table border=\"1\" class=\"dataframe\">\n",
       "  <thead>\n",
       "    <tr style=\"text-align: right;\">\n",
       "      <th></th>\n",
       "      <th>first</th>\n",
       "      <th>second</th>\n",
       "      <th>third</th>\n",
       "    </tr>\n",
       "  </thead>\n",
       "  <tbody>\n",
       "    <tr>\n",
       "      <th>0</th>\n",
       "      <td>3.159199</td>\n",
       "      <td>2.918999</td>\n",
       "      <td>3.086039</td>\n",
       "    </tr>\n",
       "    <tr>\n",
       "      <th>1</th>\n",
       "      <td>2.998375</td>\n",
       "      <td>3.263124</td>\n",
       "      <td>3.230380</td>\n",
       "    </tr>\n",
       "    <tr>\n",
       "      <th>2</th>\n",
       "      <td>2.820858</td>\n",
       "      <td>2.783518</td>\n",
       "      <td>3.273223</td>\n",
       "    </tr>\n",
       "    <tr>\n",
       "      <th>3</th>\n",
       "      <td>2.768669</td>\n",
       "      <td>3.074504</td>\n",
       "      <td>3.089464</td>\n",
       "    </tr>\n",
       "    <tr>\n",
       "      <th>4</th>\n",
       "      <td>2.893124</td>\n",
       "      <td>3.109417</td>\n",
       "      <td>3.274855</td>\n",
       "    </tr>\n",
       "  </tbody>\n",
       "</table>\n",
       "</div>"
      ],
      "text/plain": [
       "      first    second     third\n",
       "0  3.159199  2.918999  3.086039\n",
       "1  2.998375  3.263124  3.230380\n",
       "2  2.820858  2.783518  3.273223\n",
       "3  2.768669  3.074504  3.089464\n",
       "4  2.893124  3.109417  3.274855"
      ]
     },
     "metadata": {
      "scrapbook": {
       "mime_prefix": "",
       "name": "df_tbl"
      }
     },
     "output_type": "display_data"
    }
   ],
   "source": [
    "bootstrap_subsets = data[bootstrap_indices][:3, :5].T\n",
    "df = pd.DataFrame(bootstrap_subsets, columns=[\"first\", \"second\", \"third\"])\n",
    "glue(\"df_tbl\", df)"
   ]
  },
  {
   "cell_type": "markdown",
   "metadata": {},
   "source": [
    "```{tip}\n",
    "Since we are going to paste this figure into our document at a later point,\n",
    "you may wish to remove the output here, using the `remove_output` tag\n",
    "(see {ref}`use/removing`).\n",
    "```"
   ]
  },
  {
   "cell_type": "markdown",
   "metadata": {},
   "source": [
    "(glue/pasting)=\n",
    "\n",
    "## Pasting glued variables into your page\n",
    "\n",
    "Once you have glued variables into a notebook, you can then **paste**\n",
    "those variables into your text in your book anywhere you like (even on other pages).\n",
    "These variables can be pasted using one of the roles or directives in the `glu:` *family*."
   ]
  },
  {
   "cell_type": "markdown",
   "metadata": {},
   "source": [
    "### The `glu:any` role/directive\n",
    "\n",
    "The simplest role and directive are `glu:any`,\n",
    "which paste the glued output inline or as a block respectively,\n",
    "with no additional formatting.\n",
    "Simply add this:\n",
    "\n",
    "````\n",
    "```{glu:any} your-key\n",
    "```\n",
    "````\n",
    "\n",
    "For example, we'll paste the plot we generated above with the following text:\n",
    "\n",
    "````md\n",
    "```{glu:any} boot_fig\n",
    "```\n",
    "````\n",
    "\n",
    "Here's how it looks:\n",
    "\n",
    "```{glu:any} boot_fig\n",
    "```\n",
    "\n",
    "Or we can paste inline objects like so:\n",
    "\n",
    "\n",
    "```md\n",
    "Inline text; {glu:any}`boot_mean`, and figure; {glu:any}`boot_fig`.\n",
    "```\n",
    "\n",
    "Inline text; {glu:any}`boot_mean`, and figure; {glu:any}`boot_fig`.\n",
    "\n",
    "```{tip}\n",
    "We recommend using wider, shorter figures when plotting in-line, with a ratio\n",
    "around 6x2. For example, here's is an in-line figure of sorted means\n",
    "from our bootstrap: {glu:any}`sorted_means_fig`.\n",
    "It can be used to make a visual point that isn't too complex! For more\n",
    "ideas, check out [how sparklines are used](https://en.wikipedia.org/wiki/Sparkline).\n",
    "```\n",
    "\n",
    "Next we'll cover some more specific pasting functionality, which gives you more\n",
    "control over how the outputs look in your pages."
   ]
  },
  {
   "cell_type": "markdown",
   "metadata": {},
   "source": [
    "### The `glu:text` role\n",
    "\n",
    "The `glu:text` role, is specific to text outputs.\n",
    "For example, the following text:\n",
    "\n",
    "```\n",
    "The mean of the bootstrapped distribution was {glu:text}`boot_mean` (95% confidence interval {glu:text}`boot_clo`/{glu:text}`boot_chi`).\n",
    "```\n",
    "\n",
    "Is rendered as: \n",
    "The mean of the bootstrapped distribution was {glu:text}`boot_mean` (95% confidence interval {glu:text}`boot_clo`/{glu:text}`boot_chi`)\n",
    "\n",
    "```{note}\n",
    "`glu:text` only works with glued variables that contain a `text/plain` output.\n",
    "```\n",
    "\n",
    "With `glu:text` we can **add formatting to the output**.\n",
    "This is particularly useful if you are displaying numbers and\n",
    "want to round the results. To add formatting, use this pattern:\n",
    "\n",
    "* `` {glu:text}`mykey:formatstring` ``\n",
    "\n",
    "For example, the following: ``My rounded mean: {glu:text}`boot_mean:.2f` `` will be rendered like this: My rounded mean: {glu:text}`boot_mean:.2f` (95% CI: {glu:text}`boot_clo:.2f`/{glu:text}`boot_chi:.2f`).\n"
   ]
  },
  {
   "cell_type": "markdown",
   "metadata": {},
   "source": [
    "### The `glu:figure` directive\n",
    "\n",
    "With `glu:figure` you can apply more formatting to figure like objects,\n",
    "such as giving them a caption and referencable label:\n",
    "\n",
    "````md\n",
    "```{glu:figure} boot_fig\n",
    ":figwidth: 300px\n",
    ":name: \"fig-boot\"\n",
    "\n",
    "This is a **caption**, with an embedded `{glu:text}` element: {glu:text}`boot_mean:.2f`!\n",
    "```\n",
    "````\n",
    "\n",
    "```{glu:figure} boot_fig\n",
    ":figwidth: 300px\n",
    ":name: \"fig-boot\"\n",
    "\n",
    "This is a **caption**, with an embedded `{glu:text}` element: {glu:text}`boot_mean:.2f`!\n",
    "```\n",
    "\n",
    "```md\n",
    "Here is a {ref}`reference to the figure <fig-boot>`\n",
    "```\n",
    "\n",
    "Here is a {ref}`reference to the figure <fig-boot>`"
   ]
  },
  {
   "cell_type": "markdown",
   "metadata": {},
   "source": [
    "Here's a table:\n",
    "\n",
    "````md\n",
    "```{glu:figure} df_tbl\n",
    ":figwidth: 300px\n",
    ":name: \"tbl:df\"\n",
    "\n",
    "A caption for a pandas table.\n",
    "```\n",
    "\n",
    "````\n",
    "```{glu:figure} df_tbl\n",
    ":figwidth: 300px\n",
    ":name: \"tbl:df\"\n",
    "\n",
    "A caption for a pandas table.\n",
    "```"
   ]
  },
  {
   "cell_type": "markdown",
   "metadata": {},
   "source": [
    "### The `glu:math` directive\n",
    "\n",
    "The `glu:math` directive, is specific to latex math outputs\n",
    "(glued variables that contain a `text/latex` mimetype),\n",
    "and works similarly to the [sphinx math directive](https://www.sphinx-doc.org/en/1.8/usage/restructuredtext/directives.html#math).\n",
    "For example:"
   ]
  },
  {
   "cell_type": "code",
   "execution_count": 7,
   "metadata": {},
   "outputs": [
    {
     "data": {
      "text/latex": [
       "$\\displaystyle \\left(\\sqrt{5} i\\right)^{\\alpha} \\left(\\frac{1}{2} - \\frac{2 \\sqrt{5} i}{5}\\right) + \\left(- \\sqrt{5} i\\right)^{\\alpha} \\left(\\frac{1}{2} + \\frac{2 \\sqrt{5} i}{5}\\right)$"
      ],
      "text/plain": [
       "(sqrt(5)*I)**\\alpha*(1/2 - 2*sqrt(5)*I/5) + (-sqrt(5)*I)**\\alpha*(1/2 + 2*sqrt(5)*I/5)"
      ]
     },
     "metadata": {
      "scrapbook": {
       "mime_prefix": "",
       "name": "sym_eq"
      }
     },
     "output_type": "display_data"
    }
   ],
   "source": [
    "import sympy as sym\n",
    "f = sym.Function('f')\n",
    "y = sym.Function('y')\n",
    "n = sym.symbols(r'\\alpha')\n",
    "f = y(n)-2*y(n-1/sym.pi)-5*y(n-2)\n",
    "glue(\"sym_eq\", sym.rsolve(f,y(n),[1,4]))"
   ]
  },
  {
   "cell_type": "markdown",
   "metadata": {},
   "source": [
    "````md\n",
    "Insert the equation here:\n",
    "\n",
    "```{glu:math} sym_eq\n",
    ":label: eq-sym\n",
    "```\n",
    "\n",
    "Which we reference as Equation {eq}`eq-sym`\n",
    "````\n",
    "\n",
    "Insert the equation here:\n",
    "\n",
    "```{glu:math} sym_eq\n",
    ":label: eq-sym\n",
    "```\n",
    "\n",
    "Which we reference as Equation {eq}`eq-sym`.\n",
    "\n",
    "```{note}\n",
    "`glu:math` only works with glued variables that contain a `text/latex` output.\n",
    "```"
   ]
  },
  {
   "cell_type": "markdown",
   "metadata": {},
   "source": [
    "### Pasting into tables\n",
    "\n",
    "In addition to pasting blocks of outputs, or in-line with text, you can also paste directly\n",
    "into tables. This allows you to compose complex collections of structured data using outputs\n",
    "that were generated in other notebooks. For example the following table:\n",
    "\n",
    "````md\n",
    "| name                            |       plot                  | mean                      | ci                                                |\n",
    "|:-------------------------------:|:---------------------------:|---------------------------|---------------------------------------------------|\n",
    "| histogram and raw text          | {glu:any}`boot_fig`         | {glu:any}`boot_mean`      | {glu:any}`boot_clo`-{glu:any}`boot_chi`           |\n",
    "| sorted means and formatted text | {glu:any}`sorted_means_fig` | {glu:text}`boot_mean:.3f` | {glu:text}`boot_clo:.3f`-{glu:text}`boot_chi:.3f` |\n",
    "````\n",
    "\n",
    "Results in:\n",
    "\n",
    "| name                            |       plot                  | mean                      | ci                                                |\n",
    "|:-------------------------------:|:---------------------------:|---------------------------|---------------------------------------------------|\n",
    "| histogram and raw text          | {glu:any}`boot_fig`         | {glu:any}`boot_mean`      | {glu:any}`boot_clo`-{glu:any}`boot_chi`           |\n",
    "| sorted means and formatted text | {glu:any}`sorted_means_fig` | {glu:text}`boot_mean:.3f` | {glu:text}`boot_clo:.3f`-{glu:text}`boot_chi:.3f` |"
   ]
  }
 ],
 "metadata": {
  "kernelspec": {
   "display_name": "Python 3",
   "language": "python",
   "name": "python3"
  },
  "language_info": {
   "codemirror_mode": {
    "name": "ipython",
    "version": 3
   },
   "file_extension": ".py",
   "mimetype": "text/x-python",
   "name": "python",
   "nbconvert_exporter": "python",
   "pygments_lexer": "ipython3",
   "version": "3.7.3"
  },
  "widgets": {
   "application/vnd.jupyter.widget-state+json": {
    "state": {},
    "version_major": 2,
    "version_minor": 0
   }
  }
 },
 "nbformat": 4,
 "nbformat_minor": 4
}
