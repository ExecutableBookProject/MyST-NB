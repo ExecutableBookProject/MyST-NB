{
 "cells": [
  {
   "cell_type": "markdown",
   "metadata": {},
   "source": [
    "(glue)=\n",
    "\n",
    "# Inserting variables into pages with `glue`"
   ]
  },
  {
   "cell_type": "markdown",
   "metadata": {},
   "source": [
    "You often wish to run analyses in one notebook and insert them into your\n",
    "documents text elsewhere. For example, if you'd like to include a figure,\n",
    "or if you want to cite a statistic that you have run.\n",
    "\n",
    "The **`glue` submodule** allows you to add a key to variables in a notebook,\n",
    "then display those variables in your book by referencing the key.\n",
    "\n",
    "This page describes how to add keys to variables in notebooks, and how to insert them\n",
    "into your book's content in a variety of ways."
   ]
  },
  {
   "cell_type": "markdown",
   "metadata": {},
   "source": [
    "(glue/gluing)=\n",
    "\n",
    "## Gluing variables in your notebook\n",
    "\n",
    "You can use `myst_nb.glue()` to assign value of a variable to\n",
    "a key of your choice. `glue` will store all of the information that is normally used to **display**\n",
    "that variable (ie, whatever happens when you display the variable by putting it at the end of a cell).\n",
    "Choose a key that you will remember, as you will use it later.\n",
    "\n",
    "The following code glues a variable inside the notebook:"
   ]
  },
  {
   "cell_type": "code",
   "execution_count": 1,
   "metadata": {},
   "outputs": [
    {
     "data": {
      "text/plain": [
       "'my variable!'"
      ]
     },
     "metadata": {
      "scrapbook": {
       "mime_prefix": "",
       "name": "my_variable"
      }
     },
     "output_type": "display_data"
    }
   ],
   "source": [
    "from myst_nb import glue\n",
    "a = \"my variable!\"\n",
    "glue(\"my_variable\", a)"
   ]
  },
  {
   "cell_type": "markdown",
   "metadata": {},
   "source": [
    "You can then insert it into your text like so: {glue:}`my_variable`.\n",
    "\n",
    "That was accomplished with the following code: `` {glue:}`my_variable` ``.\n",
    "\n",
    "### Gluing numbers, plots, and tables\n",
    "\n",
    "You can glue anything in your notebook and display it later with `{glue:}`. Here\n",
    "we'll show how to glue and paste **numbers and images**. We'll simulate some\n",
    "data and run a simple bootstrap on it. We'll hide most of this process below,\n",
    "to focus on the glueing part."
   ]
  },
  {
   "cell_type": "code",
   "execution_count": 2,
   "metadata": {
    "tags": [
     "hide_cell"
    ]
   },
   "outputs": [],
   "source": [
    "# Simulate some data and bootstrap the mean of the data\n",
    "import numpy as np\n",
    "import pandas as pd\n",
    "import matplotlib.pyplot as plt\n",
    "\n",
    "n_points = 10000\n",
    "n_boots = 1000\n",
    "mean, sd = (3, .2)\n",
    "data = sd*np.random.randn(n_points) + mean\n",
    "bootstrap_indices = np.random.randint(0, n_points, n_points*n_boots).reshape((n_boots, n_points))"
   ]
  },
  {
   "cell_type": "markdown",
   "metadata": {},
   "source": [
    "In the cell below, `data` contains our data, and `bootstrap_indices` is a collection of sample indices in each bootstrap. Below we'll calculate a few statistics of interest, and\n",
    "**`glue()`** them into the notebook."
   ]
  },
  {
   "cell_type": "code",
   "execution_count": 3,
   "metadata": {},
   "outputs": [
    {
     "data": {
      "text/plain": [
       "3.00261156894278"
      ]
     },
     "metadata": {
      "scrapbook": {
       "mime_prefix": "",
       "name": "boot_mean"
      }
     },
     "output_type": "display_data"
    },
    {
     "data": {
      "text/plain": [
       "2.990468243815575"
      ]
     },
     "metadata": {
      "scrapbook": {
       "mime_prefix": "",
       "name": "boot_clo"
      }
     },
     "output_type": "display_data"
    },
    {
     "data": {
      "text/plain": [
       "3.0150764461656254"
      ]
     },
     "metadata": {
      "scrapbook": {
       "mime_prefix": "",
       "name": "boot_chi"
      }
     },
     "output_type": "display_data"
    }
   ],
   "source": [
    "# Calculate the mean of a bunch of random samples\n",
    "means = data[bootstrap_indices].mean(0)\n",
    "# Calcualte the 95% confidence interval for the mean\n",
    "clo, chi = np.percentile(means, [2.5, 97.5])\n",
    "\n",
    "# Store the values in our notebook\n",
    "glue(\"boot_mean\", means.mean())\n",
    "glue(\"boot_clo\", clo)\n",
    "glue(\"boot_chi\", chi)"
   ]
  },
  {
   "cell_type": "markdown",
   "metadata": {},
   "source": [
    "By default, `glue` will display the value of the variable you are gluing. This\n",
    "is useful for sanity-checking its value at glue-time. If you'd like to **prevent display**,\n",
    "use the `display=False` option. Note that below, we also *overwrite* the value of\n",
    "`boot_chi` (but using the same value):"
   ]
  },
  {
   "cell_type": "code",
   "execution_count": 4,
   "metadata": {},
   "outputs": [
    {
     "data": {
      "application/papermill.record/text/plain": "3.0150764461656254"
     },
     "metadata": {
      "scrapbook": {
       "mime_prefix": "application/papermill.record/",
       "name": "boot_chi_notdisplayed"
      }
     },
     "output_type": "display_data"
    }
   ],
   "source": [
    "glue(\"boot_chi_notdisplayed\", chi, display=False)"
   ]
  },
  {
   "cell_type": "markdown",
   "metadata": {},
   "source": [
    "You can also glue visualizations, such as matplotlib figures (here we use `display=False` to ensure that the figure isn't plotted twice):"
   ]
  },
  {
   "cell_type": "code",
   "execution_count": 5,
   "metadata": {
    "scrolled": true
   },
   "outputs": [
    {
     "data": {
      "application/papermill.record/image/png": "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\n",
      "application/papermill.record/text/plain": "<Figure size 432x288 with 1 Axes>"
     },
     "metadata": {
      "scrapbook": {
       "mime_prefix": "application/papermill.record/",
       "name": "boot_fig"
      }
     },
     "output_type": "display_data"
    },
    {
     "data": {
      "application/papermill.record/image/png": "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\n",
      "application/papermill.record/text/plain": "<Figure size 432x144 with 1 Axes>"
     },
     "metadata": {
      "scrapbook": {
       "mime_prefix": "application/papermill.record/",
       "name": "sorted_means_fig"
      }
     },
     "output_type": "display_data"
    },
    {
     "data": {
      "image/png": "[encoded data removed]",
      "text/plain": [
       "<Figure size 432x288 with 1 Axes>"
      ]
     },
     "metadata": {
      "needs_background": "light"
     },
     "output_type": "display_data"
    },
    {
     "data": {
      "image/png": "[encoded data removed]",
      "text/plain": [
       "<Figure size 432x144 with 1 Axes>"
      ]
     },
     "metadata": {
      "needs_background": "light"
     },
     "output_type": "display_data"
    }
   ],
   "source": [
    "# Visualize the historgram with the intervals\n",
    "fig, ax = plt.subplots()\n",
    "ax.hist(means)\n",
    "for ln in [clo, chi]:\n",
    "    ax.axvline(ln, ls='--', c='r')\n",
    "ax.set_title(\"Bootstrap distribution and 95% CI\")\n",
    "\n",
    "# And a wider figure to show a timeseries\n",
    "fig2, ax = plt.subplots(figsize=(6, 2))\n",
    "ax.plot(np.sort(means), lw=3, c='r')\n",
    "ax.set_axis_off()\n",
    "\n",
    "glue(\"boot_fig\", fig, display=False)\n",
    "glue(\"sorted_means_fig\", fig2, display=False)"
   ]
  },
  {
   "cell_type": "markdown",
   "metadata": {},
   "source": [
    "The same can be done for DataFrames (or other table-like objects) as well."
   ]
  },
  {
   "cell_type": "code",
   "execution_count": 6,
   "metadata": {},
   "outputs": [
    {
     "data": {
      "text/html": [
       "<div>\n",
       "<style scoped>\n",
       "    .dataframe tbody tr th:only-of-type {\n",
       "        vertical-align: middle;\n",
       "    }\n",
       "\n",
       "    .dataframe tbody tr th {\n",
       "        vertical-align: top;\n",
       "    }\n",
       "\n",
       "    .dataframe thead th {\n",
       "        text-align: right;\n",
       "    }\n",
       "</style>\n",
       "<table border=\"1\" class=\"dataframe\">\n",
       "  <thead>\n",
       "    <tr style=\"text-align: right;\">\n",
       "      <th></th>\n",
       "      <th>first</th>\n",
       "      <th>second</th>\n",
       "      <th>third</th>\n",
       "    </tr>\n",
       "  </thead>\n",
       "  <tbody>\n",
       "    <tr>\n",
       "      <th>0</th>\n",
       "      <td>3.300893</td>\n",
       "      <td>3.103483</td>\n",
       "      <td>2.924411</td>\n",
       "    </tr>\n",
       "    <tr>\n",
       "      <th>1</th>\n",
       "      <td>2.842613</td>\n",
       "      <td>3.025658</td>\n",
       "      <td>3.004245</td>\n",
       "    </tr>\n",
       "    <tr>\n",
       "      <th>2</th>\n",
       "      <td>3.158234</td>\n",
       "      <td>3.209659</td>\n",
       "      <td>2.975594</td>\n",
       "    </tr>\n",
       "    <tr>\n",
       "      <th>3</th>\n",
       "      <td>2.835368</td>\n",
       "      <td>2.969986</td>\n",
       "      <td>3.062939</td>\n",
       "    </tr>\n",
       "    <tr>\n",
       "      <th>4</th>\n",
       "      <td>3.120003</td>\n",
       "      <td>3.011689</td>\n",
       "      <td>2.992528</td>\n",
       "    </tr>\n",
       "  </tbody>\n",
       "</table>\n",
       "</div>"
      ],
      "text/plain": [
       "      first    second     third\n",
       "0  3.300893  3.103483  2.924411\n",
       "1  2.842613  3.025658  3.004245\n",
       "2  3.158234  3.209659  2.975594\n",
       "3  2.835368  2.969986  3.062939\n",
       "4  3.120003  3.011689  2.992528"
      ]
     },
     "metadata": {
      "scrapbook": {
       "mime_prefix": "",
       "name": "df_tbl"
      }
     },
     "output_type": "display_data"
    }
   ],
   "source": [
    "bootstrap_subsets = data[bootstrap_indices][:3, :5].T\n",
    "df = pd.DataFrame(bootstrap_subsets, columns=[\"first\", \"second\", \"third\"])\n",
    "glue(\"df_tbl\", df)"
   ]
  },
  {
   "cell_type": "markdown",
   "metadata": {},
   "source": [
    "```{tip}\n",
    "Since we are going to paste this figure into our document at a later point,\n",
    "you may wish to remove the output here, using the `remove_output` tag\n",
    "(see {ref}`use/removing`).\n",
    "```"
   ]
  },
  {
   "cell_type": "markdown",
   "metadata": {},
   "source": [
    "(glue/pasting)=\n",
    "\n",
    "## Pasting glued variables into your page\n",
    "\n",
    "Once you have glued variables into a notebook, you can then **paste**\n",
    "those variables into your text in your book anywhere you like (even on other pages).\n",
    "These variables can be pasted using one of the roles or directives in the `glue:` *family*."
   ]
  },
  {
   "cell_type": "markdown",
   "metadata": {},
   "source": [
    "### The `glu` role/directive\n",
    "\n",
    "The simplest role and directive are `glue:any`,\n",
    "which paste the glued output inline or as a block respectively,\n",
    "with no additional formatting.\n",
    "Simply add this:\n",
    "\n",
    "````\n",
    "```{glue:} your-key\n",
    "```\n",
    "````\n",
    "\n",
    "For example, we'll paste the plot we generated above with the following text:\n",
    "\n",
    "````md\n",
    "```{glue:} boot_fig\n",
    "```\n",
    "````\n",
    "\n",
    "Here's how it looks:\n",
    "\n",
    "```{glue:} boot_fig\n",
    "```\n",
    "\n",
    "Or we can paste inline objects like so:\n",
    "\n",
    "\n",
    "```md\n",
    "Inline text; {glue:}`boot_mean`, and figure; {glue:}`boot_fig`.\n",
    "```\n",
    "\n",
    "Inline text; {glue:}`boot_mean`, and figure; {glue:}`boot_fig`.\n",
    "\n",
    "```{tip}\n",
    "We recommend using wider, shorter figures when plotting in-line, with a ratio\n",
    "around 6x2. For example, here's is an in-line figure of sorted means\n",
    "from our bootstrap: {glue:}`sorted_means_fig`.\n",
    "It can be used to make a visual point that isn't too complex! For more\n",
    "ideas, check out [how sparklines are used](https://en.wikipedia.org/wiki/Sparkline).\n",
    "```\n",
    "\n",
    "Next we'll cover some more specific pasting functionality, which gives you more\n",
    "control over how the outputs look in your pages."
   ]
  },
  {
   "cell_type": "markdown",
   "metadata": {},
   "source": [
    "## Controling the pasted outputs\n",
    "\n",
    "You can control the pasted outputs by using a sub-command of `{glue:}`. These are called like so:\n",
    "`` {glue:subcommand}`key` ``. These subcommands allow you to control more of the look, feel, and\n",
    "content of the pasted output.\n",
    "\n",
    "```{tip}\n",
    "When you use `{glue:}` you are actually using a short-hand for `{glue:any}`. This is a\n",
    "generic command that doesn't make many assumptions about what you are gluing.\n",
    "```\n",
    "\n",
    "### The `glue:text` role\n",
    "\n",
    "\n",
    "\n",
    "The `glue:text` role, is specific to text outputs.\n",
    "For example, the following text:\n",
    "\n",
    "```\n",
    "The mean of the bootstrapped distribution was {glue:text}`boot_mean` (95% confidence interval {glue:text}`boot_clo`/{glue:text}`boot_chi`).\n",
    "```\n",
    "\n",
    "Is rendered as: \n",
    "The mean of the bootstrapped distribution was {glue:text}`boot_mean` (95% confidence interval {glue:text}`boot_clo`/{glue:text}`boot_chi`)\n",
    "\n",
    "```{note}\n",
    "`glue:text` only works with glued variables that contain a `text/plain` output.\n",
    "```\n",
    "\n",
    "With `glue:text` we can **add formatting to the output**.\n",
    "This is particularly useful if you are displaying numbers and\n",
    "want to round the results. To add formatting, use this pattern:\n",
    "\n",
    "* `` {glue:text}`mykey:formatstring` ``\n",
    "\n",
    "For example, the following: ``My rounded mean: {glue:text}`boot_mean:.2f` `` will be rendered like this: My rounded mean: {glue:text}`boot_mean:.2f` (95% CI: {glue:text}`boot_clo:.2f`/{glue:text}`boot_chi:.2f`).\n"
   ]
  },
  {
   "cell_type": "markdown",
   "metadata": {},
   "source": [
    "### The `glue:figure` directive\n",
    "\n",
    "With `glue:figure` you can apply more formatting to figure like objects,\n",
    "such as giving them a caption and referencable label:\n",
    "\n",
    "````md\n",
    "```{glue:figure} boot_fig\n",
    ":figwidth: 300px\n",
    ":name: \"fig-boot\"\n",
    "\n",
    "This is a **caption**, with an embedded `{glue:text}` element: {glue:text}`boot_mean:.2f`!\n",
    "```\n",
    "````\n",
    "\n",
    "```{glue:figure} boot_fig\n",
    ":figwidth: 300px\n",
    ":name: \"fig-boot\"\n",
    "\n",
    "This is a **caption**, with an embedded `{glue:text}` element: {glue:text}`boot_mean:.2f`!\n",
    "```\n",
    "\n",
    "```md\n",
    "Here is a {ref}`reference to the figure <fig-boot>`\n",
    "```\n",
    "\n",
    "Here is a {ref}`reference to the figure <fig-boot>`"
   ]
  },
  {
   "cell_type": "markdown",
   "metadata": {},
   "source": [
    "Here's a table:\n",
    "\n",
    "````md\n",
    "```{glue:figure} df_tbl\n",
    ":figwidth: 300px\n",
    ":name: \"tbl:df\"\n",
    "\n",
    "A caption for a pandas table.\n",
    "```\n",
    "\n",
    "````\n",
    "```{glue:figure} df_tbl\n",
    ":figwidth: 300px\n",
    ":name: \"tbl:df\"\n",
    "\n",
    "A caption for a pandas table.\n",
    "```"
   ]
  },
  {
   "cell_type": "markdown",
   "metadata": {},
   "source": [
    "### The `glue:math` directive\n",
    "\n",
    "The `glue:math` directive, is specific to latex math outputs\n",
    "(glued variables that contain a `text/latex` mimetype),\n",
    "and works similarly to the [sphinx math directive](https://www.sphinx-doc.org/en/1.8/usage/restructuredtext/directives.html#math).\n",
    "For example:"
   ]
  },
  {
   "cell_type": "code",
   "execution_count": 7,
   "metadata": {},
   "outputs": [
    {
     "data": {
      "text/latex": [
       "$\\displaystyle \\left(\\sqrt{5} i\\right)^{\\alpha} \\left(\\frac{1}{2} - \\frac{2 \\sqrt{5} i}{5}\\right) + \\left(- \\sqrt{5} i\\right)^{\\alpha} \\left(\\frac{1}{2} + \\frac{2 \\sqrt{5} i}{5}\\right)$"
      ],
      "text/plain": [
       "(sqrt(5)*I)**\\alpha*(1/2 - 2*sqrt(5)*I/5) + (-sqrt(5)*I)**\\alpha*(1/2 + 2*sqrt(5)*I/5)"
      ]
     },
     "metadata": {
      "scrapbook": {
       "mime_prefix": "",
       "name": "sym_eq"
      }
     },
     "output_type": "display_data"
    }
   ],
   "source": [
    "import sympy as sym\n",
    "f = sym.Function('f')\n",
    "y = sym.Function('y')\n",
    "n = sym.symbols(r'\\alpha')\n",
    "f = y(n)-2*y(n-1/sym.pi)-5*y(n-2)\n",
    "glue(\"sym_eq\", sym.rsolve(f,y(n),[1,4]))"
   ]
  },
  {
   "cell_type": "markdown",
   "metadata": {},
   "source": [
    "````md\n",
    "Insert the equation here:\n",
    "\n",
    "```{glue:math} sym_eq\n",
    ":label: eq-sym\n",
    "```\n",
    "\n",
    "Which we reference as Equation {eq}`eq-sym`\n",
    "````\n",
    "\n",
    "Insert the equation here:\n",
    "\n",
    "```{glue:math} sym_eq\n",
    ":label: eq-sym\n",
    "```\n",
    "\n",
    "Which we reference as Equation {eq}`eq-sym`.\n",
    "\n",
    "```{note}\n",
    "`glue:math` only works with glued variables that contain a `text/latex` output.\n",
    "```"
   ]
  },
  {
   "cell_type": "markdown",
   "metadata": {},
   "source": [
    "## Advanced glue usecases\n",
    "\n",
    "Here are a few more specific and advanced uses of the `glue` submodule.\n",
    "\n",
    "### Pasting from pages you don't include in the documentation\n",
    "\n",
    "Sometimes you'd like to use variables from notebooks that are not meant to be\n",
    "shown to users. In this case, you should bundle the notebook with the rest of your\n",
    "content pages, but include `orphan:` in the metadata of the notebook.\n",
    "\n",
    "For example, the following text: `` {glue:}`orphaned_var` was created in {ref}`orphaned-nb` ``.\n",
    "Results in: {glue:}`orphaned_var` was created in {ref}`orphaned-nb` \n",
    "\n",
    "### Pasting into tables\n",
    "\n",
    "In addition to pasting blocks of outputs, or in-line with text, you can also paste directly\n",
    "into tables. This allows you to compose complex collections of structured data using outputs\n",
    "that were generated in other notebooks. For example the following table:\n",
    "\n",
    "````md\n",
    "| name                            |       plot                  | mean                      | ci                                                |\n",
    "|:-------------------------------:|:---------------------------:|---------------------------|---------------------------------------------------|\n",
    "| histogram and raw text          | {glue:}`boot_fig`             | {glue:}`boot_mean`          | {glue:}`boot_clo`-{glue:}`boot_chi`                   |\n",
    "| sorted means and formatted text | {glue:}`sorted_means_fig`     | {glue:text}`boot_mean:.3f` | {glue:text}`boot_clo:.3f`-{glue:text}`boot_chi:.3f` |\n",
    "````\n",
    "\n",
    "Results in:\n",
    "\n",
    "| name                            |       plot                  | mean                      | ci                                                |\n",
    "|:-------------------------------:|:---------------------------:|---------------------------|---------------------------------------------------|\n",
    "| histogram and raw text          | {glue:}`boot_fig`             | {glue:}`boot_mean`          | {glue:}`boot_clo`-{glue:}`boot_chi`                   |\n",
    "| sorted means and formatted text | {glue:}`sorted_means_fig`     | {glue:text}`boot_mean:.3f` | {glue:text}`boot_clo:.3f`-{glue:text}`boot_chi:.3f` |"
   ]
  }
 ],
 "metadata": {
  "kernelspec": {
   "display_name": "Python 3",
   "language": "python",
   "name": "python3"
  },
  "language_info": {
   "codemirror_mode": {
    "name": "ipython",
    "version": 3
   },
   "file_extension": ".py",
   "mimetype": "text/x-python",
   "name": "python",
   "nbconvert_exporter": "python",
   "pygments_lexer": "ipython3",
   "version": "3.8.0"
  },
  "widgets": {
   "application/vnd.jupyter.widget-state+json": {
    "state": {},
    "version_major": 2,
    "version_minor": 0
   }
  }
 },
 "nbformat": 4,
 "nbformat_minor": 4
}
