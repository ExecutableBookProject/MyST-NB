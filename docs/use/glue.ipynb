{
 "cells": [
  {
   "cell_type": "markdown",
   "metadata": {},
   "source": [
    "# Inserting variables into pages with `glue`"
   ]
  },
  {
   "cell_type": "markdown",
   "metadata": {},
   "source": [
    "You often wish to run analyses in one notebook and insert them into your\n",
    "documents text elsewhere. For example, if you'd like to include a figure,\n",
    "or if you want to cite a statistic that you have run.\n",
    "\n",
    "In this case, it is important to know you have the latest version of whatever\n",
    "you wish to insert. Using `MyST-NB` you can keep track of the values of particular\n",
    "variables **at run time**. To do so, use the `glue` function.\n",
    "\n",
    "First, we'll generate some random data, and simulate a confidence interval:"
   ]
  },
  {
   "cell_type": "code",
   "execution_count": 3,
   "metadata": {},
   "outputs": [],
   "source": [
    "from myst_nb import glue\n",
    "import numpy as np\n",
    "import pandas as pd\n",
    "import matplotlib.pyplot as plt\n",
    "\n",
    "n_points = 10000\n",
    "n_boots = 1000\n",
    "mean, sd = (3, .2)\n",
    "data = sd*np.random.randn(n_points) + mean\n",
    "bootstrap_samples = np.random.randint(0, n_points, n_points*n_boots).reshape((n_boots, n_points))"
   ]
  },
  {
   "cell_type": "markdown",
   "metadata": {},
   "source": [
    "## Gluing variables in your notebook\n",
    "\n",
    "Once a variable is defined, you can use `myst_nb.glue()` to assign the value of the variable to\n",
    "a key of your choice. `glue` will store all of the information that is normally used to **display**\n",
    "a variable (ie, whatever happens when you display the variable by putting it at the end of a cell).\n",
    "Choose a key that you will remember, as you will use it later."
   ]
  },
  {
   "cell_type": "code",
   "execution_count": 4,
   "metadata": {},
   "outputs": [
    {
     "data": {
      "text/plain": [
       "3.001754997383061"
      ]
     },
     "metadata": {
      "scrapbook": {
       "mime_prefix": "",
       "name": "boot_mean"
      }
     },
     "output_type": "display_data"
    },
    {
     "data": {
      "text/plain": [
       "2.989209213245072"
      ]
     },
     "metadata": {
      "scrapbook": {
       "mime_prefix": "",
       "name": "boot_clo"
      }
     },
     "output_type": "display_data"
    },
    {
     "data": {
      "text/plain": [
       "3.0140129957401514"
      ]
     },
     "metadata": {
      "scrapbook": {
       "mime_prefix": "",
       "name": "boot_chi"
      }
     },
     "output_type": "display_data"
    }
   ],
   "source": [
    "# Calculate the mean of a bunch of random samples\n",
    "means = data[bootstrap_samples].mean(0)\n",
    "# Calcualte the 95% confidence interval for the mean\n",
    "clo, chi = np.percentile(means, [2.5, 97.5])\n",
    "\n",
    "# Store the values in our notebook\n",
    "glue(\"boot_mean\", means.mean())\n",
    "glue(\"boot_clo\", clo)\n",
    "glue(\"boot_chi\", chi)"
   ]
  },
  {
   "cell_type": "markdown",
   "metadata": {},
   "source": [
    "By default, `glue` will also display the value of the variable you are gluing. This\n",
    "is useful for sanity-checking its value at glue-time. If you'd like to **prevent display**,\n",
    "use the `display=False` option. Note that below, we also *overwrite* the value of\n",
    "`boot_clo` (but using the same value):"
   ]
  },
  {
   "cell_type": "code",
   "execution_count": 5,
   "metadata": {},
   "outputs": [
    {
     "data": {
      "application/papermill.record/text/plain": "3.0140129957401514"
     },
     "metadata": {
      "scrapbook": {
       "mime_prefix": "application/papermill.record/",
       "name": "boot_chi"
      }
     },
     "output_type": "display_data"
    }
   ],
   "source": [
    "glue(\"boot_chi\", chi, display=False)"
   ]
  },
  {
   "cell_type": "markdown",
   "metadata": {},
   "source": [
    "You can also glue visualizations, such as matplotlib figures (here we use `display=False` to ensure that the figure isn't plotted twice):"
   ]
  },
  {
   "cell_type": "code",
   "execution_count": 7,
   "metadata": {},
   "outputs": [
    {
     "data": {
      "application/papermill.record/image/png": "iVBORw0KGgoAAAANSUhEUgAAAX0AAAEICAYAAACzliQjAAAABHNCSVQICAgIfAhkiAAAAAlwSFlzAAALEgAACxIB0t1+/AAAADh0RVh0U29mdHdhcmUAbWF0cGxvdGxpYiB2ZXJzaW9uMy4yLjAsIGh0dHA6Ly9tYXRwbG90bGliLm9yZy8GearUAAAcoUlEQVR4nO3de5wdZX3H8c9XQC6ChEuMQBIWJKLR1mAjN62NBuVqwUoBfQGBaoMCFixKA0VBrqmgUquiqVICihBRXkaIIglEVK4BwyVENIVAEgIEiFzVCv76x/NsnW7OXpI9e2Z25vt+veZ15jwzZ+Y3s7/9nec8M3tWEYGZmTXDK8oOwMzMOsdF38ysQVz0zcwaxEXfzKxBXPTNzBrERd/MrEFc9G3YkRSSdsrzX5P06TZtd6yk5yWtl5/Pl/SRdmw7b+9Hkqa0a3tDQdIkScvLjsOGjov+MCFpqaTf5aK0WtK1ksa0YbtduYiuP8D1/6/gVkFEfDQizupvvXz+9upnW49ExKYR8fJg45J0hqRv9dj+vhExc7DbLpOkPSXdLuk5SfdIekdh2SRJf8o52j1NKSy/MOfuLZJGF9o/JOlLA9j3rpLmSPqtpKdzHEcX9u03qwFw0R9e3hcRmwLbAI8D/1FyPGsY6JtH1QzXuDtJ0pbAD4HzgRHA54AfStqisNqj+Y2ze5qZX7sr8FfAa4GfA9Ny++bAp4DT+tn3HsANwE+BnYCtgI8B+7bvCJvBRX8YiojfA1cB47vbJG0u6VJJqyQ9LOk0Sa/Iy16Rnz8s6Ym83ub5pTflx9/mntkeknaS9FNJz0h6UtKVeTvd696d1z20u4cl6V8kPQb8l6QtJF2TY1md54s9u/mSzss9tWcl/SAXlJYkfUrSSkmPSvqHHssukXR2nt8676u7J/izfOyXAWNJBep5SScXPuF8WNIjwA29fOp5Xas4W/Usuz9NSNoHOBU4NO/v7sJxf6S/n0khjimSHsk/g3/t4/zsL+mXOcZlks4oLOtzW5I2zudwtaT7gbf1th9gT+CxiPhuRLwcEd8CVgF/18druu0A/Dwi/gDMA3bM7ecA50fEs/28/nxgZkT8W0Q8GcmdEXHIAPZtBS76w5CkTYBDgVsLzf8BbE76Zfob4Ejg6LzsqDy9Ky/fFPhyXvbO/Dgi98xuAc4CfgJsAYzO2yYiutd9S173yvz8tcCWwPbAVFJe/Vd+Phb4XWF/3Y4E/oH0qeUloOXH+1xAPwm8BxgH9DVEcxKwHBgJjCIV3oiII4BHyJ+UIuJzhdf8DfBGYO9etjmgOIsi4sfAucCVeX9vabHaUfT+M+n2DmBnYDLwGUlv7GWXL+Q4RwD7Ax+TdNAAt3U68Lo87Q30d81BLZ6/ufD8NZIel/SQpC9KelVuXwT8taSNcwyLJE0Edo6Iy/vcYcr3PUgdHRusiPA0DCZgKfA88Fvgj8CjwF/kZesB/wOML6x/DDA/z88Dji0s2zlvY32gCwhg/cLyS4EZwOgWcQSwU+H5pLzvjfqIfQKwuvB8PjC98Hx83sZ6LV57cY91X1+MAbgEODvPnwn8oBhfj/O3V+F593Hv2KJt/f7izMe9vLd9AGcA3+qxfD7wkbX4mYwuLL8dOGyAuXIh8MUex9RyW8CDwD6FZVN7Hldh2Vak/PsgsAHpDeJPwNfz8tfmc/QKUs/+pu5lefkngLuBK0lvzDeT3nD/Ka/7bVLno+d+t8vH8IY+jnmNn4en1pN7+sPLQRExAtgIOB74qaTXAluTfgkfLqz7MOmXBWDbFsvWJ/WGWzmZ1IO7XdKinkMqLayKNOQEpJ6ZpK/noYtnSb/QI5TvismW9Yhng3wcPW3bYt3enA8sAX4i6UFJ0/qJu2cc/S3vK861NZCfyWOF+RdJnwbWIGk3STfm4bRngI+2iLG3bQ34/EbEU8CBwD+TrintA8wlfboiIh6LiPsj4k8R8RApjz5QeP0XI+ItEXEocAgpL15BeqOZDCwmj/X3sJr05rJNb7HZwLnoD0ORxlO/D7xM+tj+JKmXuH1htbHAijz/aItlL5F+cdf4mtX8y/uPEbEt6RPDV9X3HTs9t3ESqee6W0S8mj8PIRWHBop3Ho3N8T/ZYtsrW6zbOoiI5yLipIjYEfhb4J8lTe4lxt5i76m3OF8ANulekN/QRq7Fdvv6mayty4HZwJiI2Bz4GmsOw/RmwOcXICJ+GhFvi4gtgSOAN5A+ObRcnRY1RtIoUqE/kzQ0dE9E/BG4A/jLFvt8EbiFwhuIrTsX/WFIyYGkMffFkW4xnAWcI2kzSduTemPdtwx+B/iEpB0kbcqfx5tfIl2I+xN/vrCGpL8vXHhdTfrl/VN+/nhx3V5sRhrH/22+8Hl6i3UOlzQ+j9eeCVwVrW+VnAUcVVi31ba64z5A6SK0gGdIb4prE3crvcX5a2CjfBF1A9LdJxsWXvc40KV8Mb2Fvn4ma2sz4OmI+L3SXTIfWovXzgJOUbr4Phr4eF8rS9pF0gaSXg1cACyLiOvysndJ2j7n5xhgOmm4racvAGfkYv4Q8LZ8DiaRhptaOZmUB5+StFXe31skXbEWx2q46A83P5T0PPAs6a6HKRGxKC/7OKn3+SDplrjLSePh5MfLSB+nHwJ+n9fv7kWdA/xC6a6X3Ul3cNyW9zUbOCEiun8ZzwBm5nV7u3PiQmBjUo/4VuDHLda5jDQe/xhpuOqfWm0oIn6Ut3cDaejmhl72CelC71zStY9bgK9GxI152XnAaTnuT/axjQHFGRHPAMcC3yB9onqBPMyRfTc/PiXprhbb7fVnsg6OBc6U9BzwGVIhH6jPkoZ0HiJdvL+sn/VPJv1cl5GGW95fWLYLaZz+hfx4Lz1+rpLeTRq3vxogIm4Hrs3bexfpjWINEXEz8O48PSjpadJ1pzkDPE7LlC+CmHWMpPmki5zfKDsWs6ZxT9/MrEFc9M3MGsTDO2ZmDeKevplZg1T6S6a23nrr6OrqKjuM4emBB9LjzjuXG4c1m/OwFHfeeeeTETGy1bJKF/2uri4WLFhQdhjD06RJ6XH+/DKjsKZzHpZCUq9/We3hHTOzBql0T98G4bQ+v57crDOch5Xjol9Xe/X5T6LMOsN5WDke3qmrhQvTZFYm52HluKdfVyeemB59Ac3K5DysHPf0zcwaxEXfzKxBXPTNzBrERd/MrEF8Ibeuzj237Ag6omvataXte+n0/Uvb97DRkDwcTlz062rPPcuOwMx5WEEe3qmrm29Ok1mZnIeV455+XZ16anr0/dFWJudh5binb2bWIC76ZmYN4qJvZtYgLvpmZg3iC7l1deGFZUdg5jysIBf9upowoewIzJyHFeThnbqaOzdNZmVyHlaOe/p1dfbZ6dH/ucjK5DysHPf0zcwaxEXfzKxBXPTNzBrERd/MrEF8Ibeuvv71siMwcx5WkIt+Xe28c9kRmDkPK8jDO3X1wx+myaxMzsPKcU+/rj7/+fT4vveVG4c1m/OwctzTNzNrkH6LvqQxkm6UdL+kRZJOyO1nSFohaWGe9iu85hRJSyQ9IGnvQvs+uW2JpGlDc0hmZtabgQzvvAScFBF3SdoMuFPS9XnZFyPiguLKksYDhwFvArYF5kp6fV78FeA9wHLgDkmzI+L+dhyImZn1r9+iHxErgZV5/jlJi4Ht+njJgcAVEfEH4CFJS4Bd87IlEfEggKQr8rou+mZmHbJWF3IldQG7ALcBbweOl3QksID0aWA16Q3h1sLLlvPnN4llPdp3a7GPqcBUgLFjx65NeFZ02WVlR1B7XdOuLWW/S6fvX8p+14nzsHIGfCFX0qbA94ATI+JZ4CLgdcAE0ieBz7cjoIiYERETI2LiyJEj27HJZhozJk1mZXIeVs6AevqSNiAV/G9HxPcBIuLxwvL/BK7JT1cAxZ/y6NxGH+3WbldemR4PPbTcOKzZnIeVM5C7dwR8E1gcEV8otG9TWO39wH15fjZwmKQNJe0AjANuB+4AxknaQdIrSRd7Z7fnMGwNF12UJrMyOQ8rZyA9/bcDRwD3SlqY204FPihpAhDAUuAYgIhYJGkW6QLtS8BxEfEygKTjgeuA9YCLI2JRG4/FzMz6MZC7d34OqMWiOX285hzgnBbtc/p6nZmZDS3/Ra6ZWYO46JuZNYi/cK2urrqq7AjMnIcV5KJfV1tvXXYEZs7DCvLwTl1dckmazMrkPKwcF/268i+bVYHzsHJc9M3MGsRF38ysQVz0zcwaxEXfzKxBfMtmXc3xt11YBTgPK8dFv6422aTsCMychxXk4Z26+upX02RWJudh5bjo19WsWWkyK5PzsHJc9M3MGsRF38ysQVz0zcwaxEXfzKxBfMtmXc2fX3YEZs7DCnJP38ysQVz06+qCC9JkVibnYeW46NfVNdekyaxMzsPKcdE3M2sQF30zswZx0TczaxDfsllXG29cdgRmzsMKctGvqx/9qOwIzJyHFeThHTOzBum36EsaI+lGSfdLWiTphNy+paTrJf0mP26R2yXpS5KWSLpH0lsL25qS1/+NpClDd1jGWWelyaxMzsPKGUhP/yXgpIgYD+wOHCdpPDANmBcR44B5+TnAvsC4PE0FLoL0JgGcDuwG7Aqc3v1GYUNg3rw0mZXJeVg5/Rb9iFgZEXfl+eeAxcB2wIHAzLzaTOCgPH8gcGkktwIjJG0D7A1cHxFPR8Rq4Hpgn7YejZmZ9WmtxvQldQG7ALcBoyJiZV70GDAqz28HLCu8bHlu66295z6mSlogacGqVavWJjwzM+vHgIu+pE2B7wEnRsSzxWUREUC0I6CImBEREyNi4siRI9uxSTMzywZU9CVtQCr4346I7+fmx/OwDfnxidy+AhhTePno3NZbuw2FrbZKk1mZnIeV0+99+pIEfBNYHBFfKCyaDUwBpufHHxTaj5d0Bemi7TMRsVLSdcC5hYu37wVOac9h2Bq+972yIzBzHlbQQP446+3AEcC9khbmtlNJxX6WpA8DDwOH5GVzgP2AJcCLwNEAEfG0pLOAO/J6Z0bE0205CjMzG5B+i35E/BxQL4snt1g/gON62dbFwMVrE6Cto1Pyh6jzzis3Dms252Hl+GsY6uqWW8qOwMx5WEH+GgYzswZx0TczaxAXfTOzBvGYfl2NHl12BGbOwwpy0a+rb32r7AjMnIcV5OEdM7MGcU+/rk48MT1eeGFHdtc17dqO7MeGmQ7nofXPRb+uFi7sfx2zoeY8rBwP75iZNYiLvplZg7jom5k1iMf06+r1ry87AjPnYQW56NfVjBllR2DmPKwgD++YmTWIi35dTZ2aJrMyOQ8rx8M7dfXrX5cdgZnzsILc0zczaxAXfTOzBnHRNzNrEI/p19WECWVHYOY8rCAX/brytxpaFTgPK8fDO2ZmDeKiX1eHH54mszI5DyvHwzt1tXx52RGYOQ8ryD19M7MGcdE3M2uQfou+pIslPSHpvkLbGZJWSFqYp/0Ky06RtETSA5L2LrTvk9uWSJrW/kMxM7P+DGRM/xLgy8ClPdq/GBEXFBskjQcOA94EbAvMldT9hdpfAd4DLAfukDQ7Iu4fROzWlz32KDsCM+dhBfVb9CPiJkldA9zegcAVEfEH4CFJS4Bd87IlEfEggKQr8rou+kPlvPPKjsDMeVhBgxnTP17SPXn4Z4vcth2wrLDO8tzWW/saJE2VtEDSglWrVg0iPDMz62ldi/5FwOuACcBK4PPtCigiZkTExIiYOHLkyHZttnk+8IE0mZXJeVg563SffkQ83j0v6T+Ba/LTFcCYwqqjcxt9tNtQeOqpsiMwcx5W0Dr19CVtU3j6fqD7zp7ZwGGSNpS0AzAOuB24AxgnaQdJryRd7J297mGbmdm66LenL+k7wCRga0nLgdOBSZImAAEsBY4BiIhFkmaRLtC+BBwXES/n7RwPXAesB1wcEYvafjRmZtangdy988EWzd/sY/1zgHNatM8B5qxVdGZm1lb+7p26mjy57AjMnIcV5KJfV5/+dNkRmDkPK8jfvWNm1iAu+nW1775pMiuT87ByPLxTV7/7XdkR2BDpmnZtafteOn3/tXuB87By3NM3M2sQF30zswZx0TczaxCP6dfVAQeUHYGZ87CCXPTr6pOfLDsCM+dhBXl4x8ysQVz062rSpDSZlcl5WDku+mZmDeKib2bWIC76ZmYN4qJvZtYgvmWzrg45pOwIzJyHFeSiX1fHHlt2BGbOwwry8E5dvfhimszK5DysHPf062q//dLj/PmlhmEN5zysHPf0zcwaxEXfzKxBXPTNzBrERd/MrEF8Ibeujjqq7AjMnIcV5KJfV/5lsypwHlaOh3fq6skn02RWJudh5binX1cHH5wefX+0lcl5WDn99vQlXSzpCUn3Fdq2lHS9pN/kxy1yuyR9SdISSfdIemvhNVPy+r+RNGVoDsfMzPoykOGdS4B9erRNA+ZFxDhgXn4OsC8wLk9TgYsgvUkApwO7AbsCp3e/UZiZWef0W/Qj4ibg6R7NBwIz8/xM4KBC+6WR3AqMkLQNsDdwfUQ8HRGrgetZ843EzMyG2LpeyB0VESvz/GPAqDy/HbCssN7y3NZb+xokTZW0QNKCVatWrWN4ZmbWyqAv5EZESIp2BJO3NwOYATBx4sS2bbdxPvaxsiMwcx5W0LoW/cclbRMRK/PwzRO5fQUwprDe6Ny2ApjUo33+Ou7bBuLQQ8uOwMx5WEHrOrwzG+i+A2cK8INC+5H5Lp7dgWfyMNB1wHslbZEv4L43t9lQWbYsTWZlch5WTr89fUnfIfXSt5a0nHQXznRglqQPAw8D3f8TbQ6wH7AEeBE4GiAinpZ0FnBHXu/MiOh5cdja6Ygj0qPvj7YyOQ8rp9+iHxEf7GXR5BbrBnBcL9u5GLh4raIzM7O28tcwmJk1iIu+mVmDuOibmTWIv3Ctrk46qewIzJyHFeSiX1fve1/ZEZg5DyvIwzt19cADaTIrk/OwctzTr6tjjkmPvj/ayuQ8rBz39M3MGsRF38ysQVz0zcwaxEXfzKxBfCG3rk47rewIzJyHFeSiX1d77VV2BGbOwwry8E5dLVyYJrMyOQ8rxz39mumadi0AV1w+DYDDPjS9zHCs6U48MT36Pv3KcE/fzKxBXPTNzBrERd/MrEFc9M3MGsQXcmvqc++cUnYIZnDuuWVHYD246NfUXaPfWHYIZrDnnmVHYD14eKem3rp8MW9dvrjsMKzpbr45TVYZ7unX1Mk3zQR8n76V7NRT06Pv068M9/TNzBrERd/MrEFc9M3MGsRF38ysQQZ1IVfSUuA54GXgpYiYKGlL4EqgC1gKHBIRqyUJ+HdgP+BF4KiIuGsw+7fenTl5atkhmMGFF5YdgfXQjrt33hURTxaeTwPmRcR0SdPy838B9gXG5Wk34KL8aEPg/lE7lh2CGUyYUHYE1sNQDO8cCMzM8zOBgwrtl0ZyKzBC0jZDsH8D3r50IW9f6u8xt5LNnZsmq4zB9vQD+ImkAL4eETOAURGxMi9/DBiV57cDlhVeuzy3rSy0IWkqMBVg7NixgwyvuT5+8xUA/KLLPS0r0dlnp0f/B63KGGzRf0dErJD0GuB6Sb8qLoyIyG8IA5bfOGYATJw4ca1ea2ZmfRvU8E5ErMiPTwBXA7sCj3cP2+THJ/LqK4AxhZePzm1mZtYh61z0Jb1K0mbd88B7gfuA2UD3VzxOAX6Q52cDRyrZHXimMAxkZmYdMJjhnVHA1elOTNYHLo+IH0u6A5gl6cPAw8Ahef05pNs1l5Bu2Tx6EPs2M7N1oIjqDptPnDgxFixYUHYYw0r3P0bf8anlADy41egyw7GGa1ceLp2+fzvCaQxJd0bExFbL/C2bNeVib1XgPKwefw1DTU1echuTl9xWdhjWcM7D6nFPv6b+8farAZi3k//o2crjPKwe9/TNzBrERd/MrEFc9M3MGsRF38ysQXwht6Y+ccBJZYdg5jysIBf9mlr56pFlh2DmPKwgD+/U1AGLb+KAxTeVHYY1nPOwetzTr6nDfzkHgGve+M6SI7Emcx5Wj3v6ZmYN4qJvZtYgLvpmZg3iom9m1iC+kFtTHzvolLJDMHMeVpCLfk2t3mTzskMwcx5WkId3aurge+dy8L1zyw7DGs55WD3u6Q+B7n9ZWKbuX7Sr/mKvkiOxJnMeVo97+mZmDeKib2bWIC76ZmYN4qJvZtYgvpBbU0f9/Rllh2DmPKwgF/2a+v0GG5Udglnb8rDMO+KWTt+/tH0PBQ/v1NThd13L4XeVf+uoNZvzsHpc9GvqgF/9jAN+9bOyw7CGcx5Wj4u+mVmDdHxMX9I+wL8D6wHfiIjpQ7WvKvxlrJlZlXS0py9pPeArwL7AeOCDksZ3MgYzsybrdE9/V2BJRDwIIOkK4EDg/g7HYWY2IGWNGAzVXUOKiCHZcMudSQcD+0TER/LzI4DdIuL4wjpTgan56c7AA23a/dbAk23a1nDm8+Bz0M3nob7nYPuIGNlqQeXu04+IGcCMdm9X0oKImNju7Q43Pg8+B918Hpp5Djp9984KYEzh+ejcZmZmHdDpon8HME7SDpJeCRwGzO5wDGZmjdXR4Z2IeEnS8cB1pFs2L46IRR3afduHjIYpnwefg24+Dw08Bx29kGtmZuXyX+SamTWIi76ZWYMM+6IvaYykGyXdL2mRpBNarLOFpKsl3SPpdklvLiz7RH7dfZK+I2nYfSdxG87BCfn4F0k6sbPRt4+kjfKx3Z2P5bMt1tlQ0pWSlki6TVJXYdkpuf0BSXt3MvZ2Gsx5kLRVzqXnJX2507G3yyDPwXsk3Snp3vz47k7HP6QiYlhPwDbAW/P8ZsCvgfE91jkfOD3PvwGYl+e3Ax4CNs7PZwFHlX1MHT4HbwbuAzYhXdifC+xU9jGt43kQsGme3wC4Ddi9xzrHAl/L84cBV+b58cDdwIbADsB/A+uVfUwlnIdXAe8APgp8uexjKekc7AJsm+ffDKwo+3jaOQ37nn5ErIyIu/L8c8BiUjEvGg/ckNf5FdAlaVRetj6wsaT1SYXv0Y4E3kaDPAdvBG6LiBcj4iXgp8DfdSz4Nork+fx0gzz1vFPhQGBmnr8KmCxJuf2KiPhDRDwELCF9bciwM5jzEBEvRMTPgd93JtqhMchz8MuI6K4Di0j1YcMhD7pDhn3RL8ofz3YhvasX3U0uZJJ2BbYHRkfECuAC4BFgJfBMRPykU/EOhbU9B6Re/l/nj/WbAPvx//+AbliRtJ6khcATwPUR0fM8bAcsg3QLMfAMsFWxPVvOmm+cw8YgzkNttOkcfAC4KyL+MNTxdkptir6kTYHvASdGxLM9Fk8HRuQE+DjwS+BlSVuQ3u13ALYFXiXp8A6G3Vbrcg4iYjHwb8BPgB8DC4GXOxd1e0XEyxExgfSGtmvx2kWT+DwM/hxIehPpd+OYoYivLLUo+pI2IBW7b0fE93suj4hnI+LonABHAiOBB4G9gIciYlVE/BH4PrBnB0Nvm0GcAyLimxHxVxHxTmA16ZrAsBYRvwVuBPbpsej/vgokD+ltDjxFTb8iZB3OQ+2syzmQNBq4GjgyIv67c9EOvWFf9PN47DeBxRHxhV7WGZG/9gHgI8BNuSf8CLC7pE3ydiaTxsOHlUGeAyS9Jj+OJQ0BXT70UbefpJGSRuT5jYH3AL/qsdpsYEqePxi4IdIVu9nAYfmOjh2AccDtnYm8vQZ5HmphMOcgv+5aYFpE/KJTMXdM2VeSBzuR7jQI4B7S0MRC0rj0R4GP5nX2IPVeHyD15rcovP6zpGS4D7gM2LDsYyrhHPyM9D8N7gYml308gzgPf0katron/zw/k9vPBP42z28EfJd0ofZ2YMfC6/+VdNfOA8C+ZR9PiedhKfA08Dzp2sb4Th9DmecAOA14ofC7tBB4TdnH1K7JX8NgZtYgw354x8zMBs5F38ysQVz0zcwaxEXfzKxBXPTNzBrERd/MrEFc9M3MGuR/AQl5JvDrQhZoAAAAAElFTkSuQmCC\n",
      "application/papermill.record/text/plain": "<Figure size 432x288 with 1 Axes>"
     },
     "metadata": {
      "scrapbook": {
       "mime_prefix": "application/papermill.record/",
       "name": "boot_fig"
      }
     },
     "output_type": "display_data"
    },
    {
     "data": {
      "image/png": "[encoded data removed]",
      "text/plain": [
       "<Figure size 432x288 with 1 Axes>"
      ]
     },
     "metadata": {
      "needs_background": "light"
     },
     "output_type": "display_data"
    }
   ],
   "source": [
    "# Visualize the historgram with the intervals\n",
    "fig, ax = plt.subplots()\n",
    "ax.hist(means)\n",
    "for ln in [clo, chi]:\n",
    "    ax.axvline(ln, ls='--', c='r')\n",
    "ax.set_title(\"Bootstrap distribution and 95% CI\")\n",
    "glue(\"boot_fig\", fig, display=False)"
   ]
  },
  {
   "cell_type": "markdown",
   "metadata": {},
   "source": [
    "## Pasting glued variables into your page\n",
    "\n",
    "If you have a notebook that contains glued variables, you can then **paste**\n",
    "those variables into your text anywhere you like. There are two ways to paste\n",
    "items into your page, the *`nb:paste`* directive and role.\n",
    "\n",
    "### Using the `nb:paste` directive\n",
    "\n",
    "You can call the paste directive like so:\n",
    "\n",
    "````\n",
    "```{nb:paste} your-key\n",
    "```\n",
    "````\n",
    "\n",
    "For example, we'll paste the plot we generated above with the following text:\n",
    "\n",
    "````\n",
    "```{nb:paste} boot_fig\n",
    "```\n",
    "````\n",
    "\n",
    "Here's how it looks:\n",
    "\n",
    "```{nb:paste} boot_fig\n",
    "```\n",
    "\n",
    "### Using the `nb:basic` role\n",
    "\n",
    "It's also possible to paste variables **in-line with your text**. This is done with\n",
    "the `nb:paste` role. You can call it like so: `` {nb:paste}`your-key` ``.\n",
    "For example, the following text:\n",
    "\n",
    "```\n",
    "The mean of the bootstrapped distribution was {nb:paste}`boot_mean` (95% confidence interval {nb:paste}`boot_clo`/{nb:paste}`boot_chi`).\n",
    "```\n",
    "\n",
    "Is rendered as: \n",
    "The mean of the bootstrapped distribution was {nb:paste}`boot_mean` (95% confidence interval {nb:paste}`boot_clo`/{nb:paste}`boot_chi`)\n",
    "\n",
    "\n",
    "#### Formatting with the `paste` role\n",
    "\n",
    "You can also add formatting to the output with the paste role.\n",
    "This is particularly useful if you are displaying numbers and\n",
    "want to round the results. To add formatting, use this pattern:\n",
    "\n",
    "* `` {nb:paste}`mykey:formatstring` ``\n",
    "\n",
    "For example, the following: ``My rounded mean: {nb:basic}`boot_mean:.2f` `` will be rendered like this: My rounded mean: {nb:paste}`boot_mean:.2f` (95% CI: {nb:paste}`boot_clo:.2f`/{nb:paste}`boot_chi:.2f`).\n"
   ]
  },
  {
   "cell_type": "code",
   "execution_count": null,
   "metadata": {},
   "outputs": [],
   "source": []
  }
 ],
 "metadata": {
  "kernelspec": {
   "display_name": "Python 3",
   "language": "python",
   "name": "python3"
  },
  "language_info": {
   "codemirror_mode": {
    "name": "ipython",
    "version": 3
   },
   "file_extension": ".py",
   "mimetype": "text/x-python",
   "name": "python",
   "nbconvert_exporter": "python",
   "pygments_lexer": "ipython3",
   "version": "3.7.6"
  },
  "widgets": {
   "application/vnd.jupyter.widget-state+json": {
    "state": {},
    "version_major": 2,
    "version_minor": 0
   }
  }
 },
 "nbformat": 4,
 "nbformat_minor": 4
}
