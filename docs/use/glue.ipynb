{
 "cells": [
  {
   "cell_type": "markdown",
   "metadata": {},
   "source": [
    "(glue)=\n",
    "\n",
    "# Inserting variables into pages with `glue`"
   ]
  },
  {
   "cell_type": "markdown",
   "metadata": {},
   "source": [
    "You often wish to run analyses in one notebook and insert them into your\n",
    "documents text elsewhere. For example, if you'd like to include a figure,\n",
    "or if you want to cite a statistic that you have run.\n",
    "\n",
    "The **`glue` submodule** allows you to add a key to variables in a notebook,\n",
    "then display those variables in your book by referencing the key.\n",
    "\n",
    "This page describes how to add keys to variables in notebooks, and how to insert them\n",
    "into your book's content in a variety of ways."
   ]
  },
  {
   "cell_type": "markdown",
   "metadata": {},
   "source": [
    "(glue/gluing)=\n",
    "\n",
    "## Gluing variables in your notebook\n",
    "\n",
    "You can use `myst_nb.glue()` to assign value of a variable to\n",
    "a key of your choice. `glue` will store all of the information that is normally used to **display**\n",
    "that variable (ie, whatever happens when you display the variable by putting it at the end of a cell).\n",
    "Choose a key that you will remember, as you will use it later.\n",
    "\n",
    "The following code glues a variable inside the notebook:"
   ]
  },
  {
   "cell_type": "code",
   "execution_count": 1,
   "metadata": {},
   "outputs": [],
   "source": [
    "from myst_nb import glue\n",
    "a = \"my variable!\"\n",
    "glue(\"my_variable\", a)"
   ]
  },
  {
   "cell_type": "markdown",
   "metadata": {},
   "source": [
    "You can then insert it into your text like so: {glue:}`my_variable`.\n",
    "\n",
    "That was accomplished with the following code: `` {glue:}`my_variable` ``.\n",
    "\n",
    "### Gluing numbers, plots, and tables\n",
    "\n",
    "You can glue anything in your notebook and display it later with `{glue:}`. Here\n",
    "we'll show how to glue and paste **numbers and images**. We'll simulate some\n",
    "data and run a simple bootstrap on it. We'll hide most of this process below,\n",
    "to focus on the glueing part."
   ]
  },
  {
   "cell_type": "code",
   "execution_count": 2,
   "metadata": {
    "tags": [
     "hide_cell"
    ]
   },
   "outputs": [],
   "source": [
    "# Simulate some data and bootstrap the mean of the data\n",
    "import numpy as np\n",
    "import pandas as pd\n",
    "import matplotlib.pyplot as plt\n",
    "\n",
    "n_points = 10000\n",
    "n_boots = 1000\n",
    "mean, sd = (3, .2)\n",
    "data = sd*np.random.randn(n_points) + mean\n",
    "bootstrap_indices = np.random.randint(0, n_points, n_points*n_boots).reshape((n_boots, n_points))"
   ]
  },
  {
   "cell_type": "markdown",
   "metadata": {},
   "source": [
    "In the cell below, `data` contains our data, and `bootstrap_indices` is a collection of sample indices in each bootstrap. Below we'll calculate a few statistics of interest, and\n",
    "**`glue()`** them into the notebook."
   ]
  },
  {
   "cell_type": "code",
   "execution_count": 3,
   "metadata": {},
   "outputs": [],
   "source": [
    "# Calculate the mean of a bunch of random samples\n",
    "means = data[bootstrap_indices].mean(0)\n",
    "# Calcualte the 95% confidence interval for the mean\n",
    "clo, chi = np.percentile(means, [2.5, 97.5])\n",
    "\n",
    "# Store the values in our notebook\n",
    "glue(\"boot_mean\", means.mean())\n",
    "glue(\"boot_clo\", clo)\n",
    "glue(\"boot_chi\", chi)"
   ]
  },
  {
   "cell_type": "markdown",
   "metadata": {},
   "source": [
    "By default, `glue` will display the value of the variable you are gluing. This\n",
    "is useful for sanity-checking its value at glue-time. If you'd like to **prevent display**,\n",
    "use the `display=False` option. Note that below, we also *overwrite* the value of\n",
    "`boot_chi` (but using the same value):"
   ]
  },
  {
   "cell_type": "code",
   "execution_count": 4,
   "metadata": {},
   "outputs": [],
   "source": [
    "glue(\"boot_chi_notdisplayed\", chi, display=False)"
   ]
  },
  {
   "cell_type": "markdown",
   "metadata": {},
   "source": [
    "You can also glue visualizations, such as matplotlib figures (here we use `display=False` to ensure that the figure isn't plotted twice):"
   ]
  },
  {
   "cell_type": "code",
   "execution_count": 5,
   "metadata": {
    "scrolled": true
   },
   "outputs": [],
   "source": [
    "# Visualize the historgram with the intervals\n",
    "fig, ax = plt.subplots()\n",
    "ax.hist(means)\n",
    "for ln in [clo, chi]:\n",
    "    ax.axvline(ln, ls='--', c='r')\n",
    "ax.set_title(\"Bootstrap distribution and 95% CI\")\n",
    "\n",
    "# And a wider figure to show a timeseries\n",
    "fig2, ax = plt.subplots(figsize=(6, 2))\n",
    "ax.plot(np.sort(means), lw=3, c='r')\n",
    "ax.set_axis_off()\n",
    "\n",
    "glue(\"boot_fig\", fig, display=False)\n",
    "glue(\"sorted_means_fig\", fig2, display=False)"
   ]
  },
  {
   "cell_type": "markdown",
   "metadata": {},
   "source": [
    "The same can be done for DataFrames (or other table-like objects) as well."
   ]
  },
  {
   "cell_type": "code",
   "execution_count": 6,
   "metadata": {},
   "outputs": [],
   "source": [
    "bootstrap_subsets = data[bootstrap_indices][:3, :5].T\n",
    "df = pd.DataFrame(bootstrap_subsets, columns=[\"first\", \"second\", \"third\"])\n",
    "glue(\"df_tbl\", df)"
   ]
  },
  {
   "cell_type": "markdown",
   "metadata": {},
   "source": [
    "```{tip}\n",
    "Since we are going to paste this figure into our document at a later point,\n",
    "you may wish to remove the output here, using the `remove_output` tag\n",
    "(see {ref}`use/removing`).\n",
    "```"
   ]
  },
  {
   "cell_type": "markdown",
   "metadata": {},
   "source": [
    "(glue/pasting)=\n",
    "\n",
    "## Pasting glued variables into your page\n",
    "\n",
    "Once you have glued variables into a notebook, you can then **paste**\n",
    "those variables into your text in your book anywhere you like (even on other pages).\n",
    "These variables can be pasted using one of the roles or directives in the `glue:` *family*."
   ]
  },
  {
   "cell_type": "markdown",
   "metadata": {},
   "source": [
    "### The `glue` role/directive\n",
    "\n",
    "The simplest role and directive are `glue:any`,\n",
    "which paste the glued output inline or as a block respectively,\n",
    "with no additional formatting.\n",
    "Simply add this:\n",
    "\n",
    "````\n",
    "```{glue:} your-key\n",
    "```\n",
    "````\n",
    "\n",
    "For example, we'll paste the plot we generated above with the following text:\n",
    "\n",
    "````md\n",
    "```{glue:} boot_fig\n",
    "```\n",
    "````\n",
    "\n",
    "Here's how it looks:\n",
    "\n",
    "```{glue:} boot_fig\n",
    "```\n",
    "\n",
    "Or we can paste inline objects like so:\n",
    "\n",
    "\n",
    "```md\n",
    "Inline text; {glue:}`boot_mean`, and figure; {glue:}`boot_fig`.\n",
    "```\n",
    "\n",
    "Inline text; {glue:}`boot_mean`, and figure; {glue:}`boot_fig`.\n",
    "\n",
    "```{tip}\n",
    "We recommend using wider, shorter figures when plotting in-line, with a ratio\n",
    "around 6x2. For example, here's is an in-line figure of sorted means\n",
    "from our bootstrap: {glue:}`sorted_means_fig`.\n",
    "It can be used to make a visual point that isn't too complex! For more\n",
    "ideas, check out [how sparklines are used](https://en.wikipedia.org/wiki/Sparkline).\n",
    "```\n",
    "\n",
    "Next we'll cover some more specific pasting functionality, which gives you more\n",
    "control over how the outputs look in your pages."
   ]
  },
  {
   "cell_type": "markdown",
   "metadata": {},
   "source": [
    "## Controling the pasted outputs\n",
    "\n",
    "You can control the pasted outputs by using a sub-command of `{glue:}`. These are called like so:\n",
    "`` {glue:subcommand}`key` ``. These subcommands allow you to control more of the look, feel, and\n",
    "content of the pasted output.\n",
    "\n",
    "```{tip}\n",
    "When you use `{glue:}` you are actually using a short-hand for `{glue:any}`. This is a\n",
    "generic command that doesn't make many assumptions about what you are gluing.\n",
    "```\n",
    "\n",
    "### The `glue:text` role\n",
    "\n",
    "\n",
    "\n",
    "The `glue:text` role, is specific to text outputs.\n",
    "For example, the following text:\n",
    "\n",
    "```\n",
    "The mean of the bootstrapped distribution was {glue:text}`boot_mean` (95% confidence interval {glue:text}`boot_clo`/{glue:text}`boot_chi`).\n",
    "```\n",
    "\n",
    "Is rendered as: \n",
    "The mean of the bootstrapped distribution was {glue:text}`boot_mean` (95% confidence interval {glue:text}`boot_clo`/{glue:text}`boot_chi`)\n",
    "\n",
    "```{note}\n",
    "`glue:text` only works with glued variables that contain a `text/plain` output.\n",
    "```\n",
    "\n",
    "With `glue:text` we can **add formatting to the output**.\n",
    "This is particularly useful if you are displaying numbers and\n",
    "want to round the results. To add formatting, use this pattern:\n",
    "\n",
    "* `` {glue:text}`mykey:formatstring` ``\n",
    "\n",
    "For example, the following: ``My rounded mean: {glue:text}`boot_mean:.2f` `` will be rendered like this: My rounded mean: {glue:text}`boot_mean:.2f` (95% CI: {glue:text}`boot_clo:.2f`/{glue:text}`boot_chi:.2f`).\n"
   ]
  },
  {
   "cell_type": "markdown",
   "metadata": {},
   "source": [
    "### The `glue:figure` directive\n",
    "\n",
    "With `glue:figure` you can apply more formatting to figure like objects,\n",
    "such as giving them a caption and referencable label:\n",
    "\n",
    "````md\n",
    "```{glue:figure} boot_fig\n",
    ":figwidth: 300px\n",
    ":name: \"fig-boot\"\n",
    "\n",
    "This is a **caption**, with an embedded `{glue:text}` element: {glue:text}`boot_mean:.2f`!\n",
    "```\n",
    "````\n",
    "\n",
    "```{glue:figure} boot_fig\n",
    ":figwidth: 300px\n",
    ":name: \"fig-boot\"\n",
    "\n",
    "This is a **caption**, with an embedded `{glue:text}` element: {glue:text}`boot_mean:.2f`!\n",
    "```\n",
    "\n",
    "```md\n",
    "Here is a {ref}`reference to the figure <fig-boot>`\n",
    "```\n",
    "\n",
    "Here is a {ref}`reference to the figure <fig-boot>`"
   ]
  },
  {
   "cell_type": "markdown",
   "metadata": {},
   "source": [
    "Here's a table:\n",
    "\n",
    "````md\n",
    "```{glue:figure} df_tbl\n",
    ":figwidth: 300px\n",
    ":name: \"tbl:df\"\n",
    "\n",
    "A caption for a pandas table.\n",
    "```\n",
    "\n",
    "````\n",
    "```{glue:figure} df_tbl\n",
    ":figwidth: 300px\n",
    ":name: \"tbl:df\"\n",
    "\n",
    "A caption for a pandas table.\n",
    "```"
   ]
  },
  {
   "cell_type": "markdown",
   "metadata": {},
   "source": [
    "### The `glue:math` directive\n",
    "\n",
    "The `glue:math` directive, is specific to latex math outputs\n",
    "(glued variables that contain a `text/latex` mimetype),\n",
    "and works similarly to the [sphinx math directive](https://www.sphinx-doc.org/en/1.8/usage/restructuredtext/directives.html#math).\n",
    "For example:"
   ]
  },
  {
   "cell_type": "code",
   "execution_count": 7,
   "metadata": {},
   "outputs": [],
   "source": [
    "import sympy as sym\n",
    "f = sym.Function('f')\n",
    "y = sym.Function('y')\n",
    "n = sym.symbols(r'\\alpha')\n",
    "f = y(n)-2*y(n-1/sym.pi)-5*y(n-2)\n",
    "glue(\"sym_eq\", sym.rsolve(f,y(n),[1,4]))"
   ]
  },
  {
   "cell_type": "markdown",
   "metadata": {},
   "source": [
    "````md\n",
    "Insert the equation here:\n",
    "\n",
    "```{glue:math} sym_eq\n",
    ":label: eq-sym\n",
    "```\n",
    "\n",
    "Which we reference as Equation {eq}`eq-sym`\n",
    "````\n",
    "\n",
    "Insert the equation here:\n",
    "\n",
    "```{glue:math} sym_eq\n",
    ":label: eq-sym\n",
    "```\n",
    "\n",
    "Which we reference as Equation {eq}`eq-sym`.\n",
    "\n",
    "```{note}\n",
    "`glue:math` only works with glued variables that contain a `text/latex` output.\n",
    "```"
   ]
  },
  {
   "cell_type": "markdown",
   "metadata": {},
   "source": [
    "## Advanced glue usecases\n",
    "\n",
    "Here are a few more specific and advanced uses of the `glue` submodule.\n",
    "\n",
    "### Pasting from pages you don't include in the documentation\n",
    "\n",
    "Sometimes you'd like to use variables from notebooks that are not meant to be\n",
    "shown to users. In this case, you should bundle the notebook with the rest of your\n",
    "content pages, but include `orphan:` in the metadata of the notebook.\n",
    "\n",
    "For example, the following text: `` {glue:}`orphaned_var` was created in {ref}`orphaned-nb` ``.\n",
    "Results in: {glue:}`orphaned_var` was created in {ref}`orphaned-nb` \n",
    "\n",
    "### Pasting into tables\n",
    "\n",
    "In addition to pasting blocks of outputs, or in-line with text, you can also paste directly\n",
    "into tables. This allows you to compose complex collections of structured data using outputs\n",
    "that were generated in other notebooks. For example the following table:\n",
    "\n",
    "````md\n",
    "| name                            |       plot                  | mean                      | ci                                                |\n",
    "|:-------------------------------:|:---------------------------:|---------------------------|---------------------------------------------------|\n",
    "| histogram and raw text          | {glue:}`boot_fig`             | {glue:}`boot_mean`          | {glue:}`boot_clo`-{glue:}`boot_chi`                   |\n",
    "| sorted means and formatted text | {glue:}`sorted_means_fig`     | {glue:text}`boot_mean:.3f` | {glue:text}`boot_clo:.3f`-{glue:text}`boot_chi:.3f` |\n",
    "````\n",
    "\n",
    "Results in:\n",
    "\n",
    "| name                            |       plot                  | mean                      | ci                                                |\n",
    "|:-------------------------------:|:---------------------------:|---------------------------|---------------------------------------------------|\n",
    "| histogram and raw text          | {glue:}`boot_fig`             | {glue:}`boot_mean`          | {glue:}`boot_clo`-{glue:}`boot_chi`                   |\n",
    "| sorted means and formatted text | {glue:}`sorted_means_fig`     | {glue:text}`boot_mean:.3f` | {glue:text}`boot_clo:.3f`-{glue:text}`boot_chi:.3f` |"
   ]
  }
 ],
 "metadata": {
  "kernelspec": {
   "display_name": "Python 3",
   "language": "python",
   "name": "python3"
  },
  "language_info": {
   "codemirror_mode": {
    "name": "ipython",
    "version": 3
   },
   "file_extension": ".py",
   "mimetype": "text/x-python",
   "name": "python",
   "nbconvert_exporter": "python",
   "pygments_lexer": "ipython3",
   "version": "3.8.0"
  },
  "widgets": {
   "application/vnd.jupyter.widget-state+json": {
    "state": {},
    "version_major": 2,
    "version_minor": 0
   }
  }
 },
 "nbformat": 4,
 "nbformat_minor": 4
}
