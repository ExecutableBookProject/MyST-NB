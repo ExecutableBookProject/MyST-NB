{
 "cells": [
  {
   "cell_type": "markdown",
   "metadata": {},
   "source": [
    "(glue)=\n",
    "\n",
    "# Inserting variables into pages with `glue`"
   ]
  },
  {
   "cell_type": "markdown",
   "metadata": {},
   "source": [
    "You often wish to run analyses in one notebook and insert them into your\n",
    "documents text elsewhere. For example, if you'd like to include a figure,\n",
    "or if you want to cite a statistic that you have run.\n",
    "\n",
    "In this case, it is important to know you have the latest version of whatever\n",
    "you wish to insert. Using `MyST-NB` you can keep track of the values of particular\n",
    "variables **at run time**. To do so, use the `glue` function.\n",
    "\n",
    "First, we'll generate some random data, and simulate a confidence interval:"
   ]
  },
  {
   "cell_type": "code",
   "execution_count": 1,
   "metadata": {},
   "outputs": [],
   "source": [
    "from myst_nb import glue\n",
    "import numpy as np\n",
    "import pandas as pd\n",
    "import matplotlib.pyplot as plt\n",
    "\n",
    "n_points = 10000\n",
    "n_boots = 1000\n",
    "mean, sd = (3, .2)\n",
    "data = sd*np.random.randn(n_points) + mean\n",
    "bootstrap_samples = np.random.randint(0, n_points, n_points*n_boots).reshape((n_boots, n_points))"
   ]
  },
  {
   "cell_type": "markdown",
   "metadata": {},
   "source": [
    "(glue/gluing)=\n",
    "\n",
    "## Gluing variables in your notebook\n",
    "\n",
    "Once a variable is defined, you can use `myst_nb.glue()` to assign the value of the variable to\n",
    "a key of your choice. `glue` will store all of the information that is normally used to **display**\n",
    "a variable (ie, whatever happens when you display the variable by putting it at the end of a cell).\n",
    "Choose a key that you will remember, as you will use it later."
   ]
  },
  {
   "cell_type": "code",
   "execution_count": 2,
   "metadata": {},
   "outputs": [
    {
     "data": {
      "text/plain": [
       "2.996484829102961"
      ]
     },
     "metadata": {
      "scrapbook": {
       "mime_prefix": "",
       "name": "boot_mean"
      }
     },
     "output_type": "display_data"
    },
    {
     "data": {
      "text/plain": [
       "2.9840777557993112"
      ]
     },
     "metadata": {
      "scrapbook": {
       "mime_prefix": "",
       "name": "boot_clo"
      }
     },
     "output_type": "display_data"
    },
    {
     "data": {
      "text/plain": [
       "3.008763329311103"
      ]
     },
     "metadata": {
      "scrapbook": {
       "mime_prefix": "",
       "name": "boot_chi"
      }
     },
     "output_type": "display_data"
    }
   ],
   "source": [
    "# Calculate the mean of a bunch of random samples\n",
    "means = data[bootstrap_samples].mean(0)\n",
    "# Calcualte the 95% confidence interval for the mean\n",
    "clo, chi = np.percentile(means, [2.5, 97.5])\n",
    "\n",
    "# Store the values in our notebook\n",
    "glue(\"boot_mean\", means.mean())\n",
    "glue(\"boot_clo\", clo)\n",
    "glue(\"boot_chi\", chi)"
   ]
  },
  {
   "cell_type": "markdown",
   "metadata": {},
   "source": [
    "By default, `glue` will also display the value of the variable you are gluing. This\n",
    "is useful for sanity-checking its value at glue-time. If you'd like to **prevent display**,\n",
    "use the `display=False` option. Note that below, we also *overwrite* the value of\n",
    "`boot_clo` (but using the same value):"
   ]
  },
  {
   "cell_type": "code",
   "execution_count": 3,
   "metadata": {},
   "outputs": [
    {
     "data": {
      "application/papermill.record/text/plain": "3.008763329311103"
     },
     "metadata": {
      "scrapbook": {
       "mime_prefix": "application/papermill.record/",
       "name": "boot_chi"
      }
     },
     "output_type": "display_data"
    }
   ],
   "source": [
    "glue(\"boot_chi\", chi, display=False)"
   ]
  },
  {
   "cell_type": "markdown",
   "metadata": {},
   "source": [
    "You can also glue visualizations, such as matplotlib figures (here we use `display=False` to ensure that the figure isn't plotted twice):"
   ]
  },
  {
   "cell_type": "code",
   "execution_count": 4,
   "metadata": {
    "scrolled": true
   },
   "outputs": [
    {
     "data": {
      "application/papermill.record/image/png": "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\n",
      "application/papermill.record/text/plain": "<Figure size 432x288 with 1 Axes>"
     },
     "metadata": {
      "scrapbook": {
       "mime_prefix": "application/papermill.record/",
       "name": "boot_fig"
      }
     },
     "output_type": "display_data"
    },
    {
     "data": {
      "image/png": "[encoded data removed]",
      "text/plain": [
       "<Figure size 432x288 with 1 Axes>"
      ]
     },
     "metadata": {
      "needs_background": "light"
     },
     "output_type": "display_data"
    }
   ],
   "source": [
    "# Visualize the historgram with the intervals\n",
    "fig, ax = plt.subplots()\n",
    "ax.hist(means)\n",
    "for ln in [clo, chi]:\n",
    "    ax.axvline(ln, ls='--', c='r')\n",
    "ax.set_title(\"Bootstrap distribution and 95% CI\")\n",
    "glue(\"boot_fig\", fig, display=False)"
   ]
  },
  {
   "cell_type": "code",
   "execution_count": 5,
   "metadata": {},
   "outputs": [
    {
     "data": {
      "application/papermill.record/text/html": "<div>\n<style scoped>\n    .dataframe tbody tr th:only-of-type {\n        vertical-align: middle;\n    }\n\n    .dataframe tbody tr th {\n        vertical-align: top;\n    }\n\n    .dataframe thead th {\n        text-align: right;\n    }\n</style>\n<table border=\"1\" class=\"dataframe\">\n  <thead>\n    <tr style=\"text-align: right;\">\n      <th></th>\n      <th>A</th>\n      <th>B</th>\n      <th>C</th>\n    </tr>\n  </thead>\n  <tbody>\n    <tr>\n      <th>0</th>\n      <td>1</td>\n      <td>4</td>\n      <td>7</td>\n    </tr>\n    <tr>\n      <th>1</th>\n      <td>2</td>\n      <td>5</td>\n      <td>8</td>\n    </tr>\n    <tr>\n      <th>2</th>\n      <td>3</td>\n      <td>6</td>\n      <td>9</td>\n    </tr>\n  </tbody>\n</table>\n</div>",
      "application/papermill.record/text/plain": "   A  B  C\n0  1  4  7\n1  2  5  8\n2  3  6  9"
     },
     "metadata": {
      "scrapbook": {
       "mime_prefix": "application/papermill.record/",
       "name": "df_tbl"
      }
     },
     "output_type": "display_data"
    },
    {
     "data": {
      "text/html": [
       "<div>\n",
       "<style scoped>\n",
       "    .dataframe tbody tr th:only-of-type {\n",
       "        vertical-align: middle;\n",
       "    }\n",
       "\n",
       "    .dataframe tbody tr th {\n",
       "        vertical-align: top;\n",
       "    }\n",
       "\n",
       "    .dataframe thead th {\n",
       "        text-align: right;\n",
       "    }\n",
       "</style>\n",
       "<table border=\"1\" class=\"dataframe\">\n",
       "  <thead>\n",
       "    <tr style=\"text-align: right;\">\n",
       "      <th></th>\n",
       "      <th>A</th>\n",
       "      <th>B</th>\n",
       "      <th>C</th>\n",
       "    </tr>\n",
       "  </thead>\n",
       "  <tbody>\n",
       "    <tr>\n",
       "      <th>0</th>\n",
       "      <td>1</td>\n",
       "      <td>4</td>\n",
       "      <td>7</td>\n",
       "    </tr>\n",
       "    <tr>\n",
       "      <th>1</th>\n",
       "      <td>2</td>\n",
       "      <td>5</td>\n",
       "      <td>8</td>\n",
       "    </tr>\n",
       "    <tr>\n",
       "      <th>2</th>\n",
       "      <td>3</td>\n",
       "      <td>6</td>\n",
       "      <td>9</td>\n",
       "    </tr>\n",
       "  </tbody>\n",
       "</table>\n",
       "</div>"
      ],
      "text/plain": [
       "   A  B  C\n",
       "0  1  4  7\n",
       "1  2  5  8\n",
       "2  3  6  9"
      ]
     },
     "execution_count": 5,
     "metadata": {},
     "output_type": "execute_result"
    }
   ],
   "source": [
    "df = pd.DataFrame({\"A\": [1, 2, 3], \"B\": [4, 5, 6], \"C\": [7, 8, 9]})\n",
    "glue(\"df_tbl\", df, display=False)\n",
    "df"
   ]
  },
  {
   "cell_type": "markdown",
   "metadata": {},
   "source": [
    "```{tip}\n",
    "Since we are going to paste this figure into our document at a later point,\n",
    "you may wish to remove the output here, using the `remove_output` tag\n",
    "(see {ref}`use/removing`).\n",
    "```"
   ]
  },
  {
   "cell_type": "markdown",
   "metadata": {},
   "source": [
    "(glue/pasting)=\n",
    "\n",
    "## Pasting glued variables into your page\n",
    "\n",
    "If you have a notebook that contains glued variables, you can then **paste**\n",
    "those variables into your text anywhere you like.\n",
    "These variables can be pasted using one of the roles or directives in the `glu:` *family*."
   ]
  },
  {
   "cell_type": "markdown",
   "metadata": {},
   "source": [
    "### Using the `glu:any` role/directive\n",
    "\n",
    "The simplest role and directive are `glu:any`,\n",
    "which paste the glued output inline or as a block respectively,\n",
    "with no additional formatting.\n",
    "Simply add this:\n",
    "\n",
    "````\n",
    "```{glu:any} your-key\n",
    "```\n",
    "````\n",
    "\n",
    "For example, we'll paste the plot we generated above with the following text:\n",
    "\n",
    "````md\n",
    "```{glu:any} boot_fig\n",
    "```\n",
    "````\n",
    "\n",
    "Here's how it looks:\n",
    "\n",
    "```{glu:any} boot_fig\n",
    "```\n",
    "\n",
    "Or we can paste inline objects:\n",
    "\n",
    "\n",
    "```md\n",
    "Inline text; {glu:any}`boot_mean`, and figure; {glu:any}`boot_fig`.\n",
    "```\n",
    "\n",
    "Inline text; {glu:any}`boot_mean`, and figure; {glu:any}`boot_fig`.\n",
    "\n",
    "\n"
   ]
  },
  {
   "cell_type": "markdown",
   "metadata": {},
   "source": [
    "### Using the `glu:text` role\n",
    "\n",
    "The `glu:text` role, is specific to text outputs\n",
    "(glued variables that contain a `text/plain` mimetype).\n",
    "For example, the following text:\n",
    "\n",
    "```\n",
    "The mean of the bootstrapped distribution was {glu:text}`boot_mean` (95% confidence interval {glu:text}`boot_clo`/{glu:text}`boot_chi`).\n",
    "```\n",
    "\n",
    "Is rendered as: \n",
    "The mean of the bootstrapped distribution was {glu:text}`boot_mean` (95% confidence interval {glu:text}`boot_clo`/{glu:text}`boot_chi`)\n",
    "\n",
    "```{note}\n",
    "`glu:text` only works with glued variables that contain a `text/plain` output.\n",
    "```\n",
    "\n",
    "With `glu:text` we can add formatting to the output.\n",
    "This is particularly useful if you are displaying numbers and\n",
    "want to round the results. To add formatting, use this pattern:\n",
    "\n",
    "* `` {glu:text}`mykey:formatstring` ``\n",
    "\n",
    "For example, the following: ``My rounded mean: {glu:text}`boot_mean:.2f` `` will be rendered like this: My rounded mean: {glu:text}`boot_mean:.2f` (95% CI: {glu:text}`boot_clo:.2f`/{glu:text}`boot_chi:.2f`).\n"
   ]
  },
  {
   "cell_type": "markdown",
   "metadata": {},
   "source": [
    "### Using the `glu:figure` directive\n",
    "\n",
    "With `glu:figure` you can apply more formatting to figure like objects,\n",
    "such as giving them a caption and referencable label:\n",
    "\n",
    "````md\n",
    "```{glu:figure} boot_fig\n",
    ":figwidth: 300px\n",
    ":name: \"fig:boot\"\n",
    "\n",
    "This is a **caption**, with an embedded `{glu:text}` {glu:text}`boot_mean:.2f`!\n",
    "```\n",
    "````\n",
    "\n",
    "```{glu:figure} boot_fig\n",
    ":figwidth: 300px\n",
    ":name: \"fig:boot\"\n",
    "\n",
    "This is a **caption**, with an embedded `{glu:text}` {glu:text}`boot_mean:.2f`!\n",
    "```\n",
    "\n",
    "```md\n",
    "Here is a {ref}`reference to the figure <fig:boot>`\n",
    "```\n",
    "\n",
    "Here is a {ref}`reference to the figure <fig:boot>`"
   ]
  },
  {
   "cell_type": "markdown",
   "metadata": {},
   "source": [
    "Here's a table:\n",
    "\n",
    "````md\n",
    "```{glu:figure} df_tbl\n",
    ":figwidth: 300px\n",
    ":name: \"tbl:df\"\n",
    "\n",
    "A caption for a pandas table.\n",
    "```\n",
    "\n",
    "````\n",
    "```{glu:figure} df_tbl\n",
    ":figwidth: 300px\n",
    ":name: \"tbl:df\"\n",
    "\n",
    "A caption for a pandas table.\n",
    "```"
   ]
  }
 ],
 "metadata": {
  "kernelspec": {
   "display_name": "Python 3",
   "language": "python",
   "name": "python3"
  },
  "language_info": {
   "codemirror_mode": {
    "name": "ipython",
    "version": 3
   },
   "file_extension": ".py",
   "mimetype": "text/x-python",
   "name": "python",
   "nbconvert_exporter": "python",
   "pygments_lexer": "ipython3",
   "version": "3.7.6"
  },
  "widgets": {
   "application/vnd.jupyter.widget-state+json": {
    "state": {},
    "version_major": 2,
    "version_minor": 0
   }
  }
 },
 "nbformat": 4,
 "nbformat_minor": 4
}
