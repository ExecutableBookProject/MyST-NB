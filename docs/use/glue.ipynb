{
 "cells": [
  {
   "cell_type": "markdown",
   "metadata": {},
   "source": [
    "(glue)=\n",
    "\n",
    "# Inserting variables into pages with `glue`"
   ]
  },
  {
   "cell_type": "markdown",
   "metadata": {},
   "source": [
    "You often wish to run analyses in one notebook and insert them into your\n",
    "documents text elsewhere. For example, if you'd like to include a figure,\n",
    "or if you want to cite a statistic that you have run.\n",
    "\n",
    "In this case, it is important to know you have the latest version of whatever\n",
    "you wish to insert. Using `MyST-NB` you can keep track of the values of particular\n",
    "variables **at run time**. To do so, use the `glue` function.\n",
    "\n",
    "First, we'll generate some random data, and simulate a confidence interval:"
   ]
  },
  {
   "cell_type": "code",
   "execution_count": 1,
   "metadata": {},
   "outputs": [],
   "source": [
    "from myst_nb import glue\n",
    "import numpy as np\n",
    "import pandas as pd\n",
    "import matplotlib.pyplot as plt\n",
    "\n",
    "n_points = 10000\n",
    "n_boots = 1000\n",
    "mean, sd = (3, .2)\n",
    "data = sd*np.random.randn(n_points) + mean\n",
    "bootstrap_samples = np.random.randint(0, n_points, n_points*n_boots).reshape((n_boots, n_points))"
   ]
  },
  {
   "cell_type": "markdown",
   "metadata": {},
   "source": [
    "(glue/gluing)=\n",
    "\n",
    "## Gluing variables in your notebook\n",
    "\n",
    "Once a variable is defined, you can use `myst_nb.glue()` to assign the value of the variable to\n",
    "a key of your choice. `glue` will store all of the information that is normally used to **display**\n",
    "a variable (ie, whatever happens when you display the variable by putting it at the end of a cell).\n",
    "Choose a key that you will remember, as you will use it later."
   ]
  },
  {
   "cell_type": "code",
   "execution_count": 2,
   "metadata": {},
   "outputs": [
    {
     "data": {
      "text/plain": [
       "2.9974627255828192"
      ]
     },
     "metadata": {
      "scrapbook": {
       "mime_prefix": "",
       "name": "boot_mean"
      }
     },
     "output_type": "display_data"
    },
    {
     "data": {
      "text/plain": [
       "2.9854611502449093"
      ]
     },
     "metadata": {
      "scrapbook": {
       "mime_prefix": "",
       "name": "boot_clo"
      }
     },
     "output_type": "display_data"
    },
    {
     "data": {
      "text/plain": [
       "3.009866687082731"
      ]
     },
     "metadata": {
      "scrapbook": {
       "mime_prefix": "",
       "name": "boot_chi"
      }
     },
     "output_type": "display_data"
    }
   ],
   "source": [
    "# Calculate the mean of a bunch of random samples\n",
    "means = data[bootstrap_samples].mean(0)\n",
    "# Calcualte the 95% confidence interval for the mean\n",
    "clo, chi = np.percentile(means, [2.5, 97.5])\n",
    "\n",
    "# Store the values in our notebook\n",
    "glue(\"boot_mean\", means.mean())\n",
    "glue(\"boot_clo\", clo)\n",
    "glue(\"boot_chi\", chi)"
   ]
  },
  {
   "cell_type": "markdown",
   "metadata": {},
   "source": [
    "By default, `glue` will also display the value of the variable you are gluing. This\n",
    "is useful for sanity-checking its value at glue-time. If you'd like to **prevent display**,\n",
    "use the `display=False` option. Note that below, we also *overwrite* the value of\n",
    "`boot_clo` (but using the same value):"
   ]
  },
  {
   "cell_type": "code",
   "execution_count": 3,
   "metadata": {},
   "outputs": [
    {
     "data": {
      "application/papermill.record/text/plain": "3.009866687082731"
     },
     "metadata": {
      "scrapbook": {
       "mime_prefix": "application/papermill.record/",
       "name": "boot_chi"
      }
     },
     "output_type": "display_data"
    }
   ],
   "source": [
    "glue(\"boot_chi\", chi, display=False)"
   ]
  },
  {
   "cell_type": "markdown",
   "metadata": {},
   "source": [
    "You can also glue visualizations, such as matplotlib figures (here we use `display=False` to ensure that the figure isn't plotted twice):"
   ]
  },
  {
   "cell_type": "code",
   "execution_count": 4,
   "metadata": {
    "scrolled": true
   },
   "outputs": [
    {
     "data": {
      "application/papermill.record/image/png": "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\n",
      "application/papermill.record/text/plain": "<Figure size 432x288 with 1 Axes>"
     },
     "metadata": {
      "scrapbook": {
       "mime_prefix": "application/papermill.record/",
       "name": "boot_fig"
      }
     },
     "output_type": "display_data"
    },
    {
     "data": {
      "image/png": "[encoded data removed]",
      "text/plain": [
       "<Figure size 432x288 with 1 Axes>"
      ]
     },
     "metadata": {
      "needs_background": "light"
     },
     "output_type": "display_data"
    }
   ],
   "source": [
    "# Visualize the historgram with the intervals\n",
    "fig, ax = plt.subplots()\n",
    "ax.hist(means)\n",
    "for ln in [clo, chi]:\n",
    "    ax.axvline(ln, ls='--', c='r')\n",
    "ax.set_title(\"Bootstrap distribution and 95% CI\")\n",
    "glue(\"boot_fig\", fig, display=False)"
   ]
  },
  {
   "cell_type": "code",
   "execution_count": 5,
   "metadata": {},
   "outputs": [
    {
     "data": {
      "text/html": [
       "<div>\n",
       "<style scoped>\n",
       "    .dataframe tbody tr th:only-of-type {\n",
       "        vertical-align: middle;\n",
       "    }\n",
       "\n",
       "    .dataframe tbody tr th {\n",
       "        vertical-align: top;\n",
       "    }\n",
       "\n",
       "    .dataframe thead th {\n",
       "        text-align: right;\n",
       "    }\n",
       "</style>\n",
       "<table border=\"1\" class=\"dataframe\">\n",
       "  <thead>\n",
       "    <tr style=\"text-align: right;\">\n",
       "      <th></th>\n",
       "      <th>A</th>\n",
       "      <th>B</th>\n",
       "      <th>C</th>\n",
       "    </tr>\n",
       "  </thead>\n",
       "  <tbody>\n",
       "    <tr>\n",
       "      <th>0</th>\n",
       "      <td>1</td>\n",
       "      <td>4</td>\n",
       "      <td>7</td>\n",
       "    </tr>\n",
       "    <tr>\n",
       "      <th>1</th>\n",
       "      <td>2</td>\n",
       "      <td>5</td>\n",
       "      <td>8</td>\n",
       "    </tr>\n",
       "    <tr>\n",
       "      <th>2</th>\n",
       "      <td>3</td>\n",
       "      <td>6</td>\n",
       "      <td>9</td>\n",
       "    </tr>\n",
       "  </tbody>\n",
       "</table>\n",
       "</div>"
      ],
      "text/plain": [
       "   A  B  C\n",
       "0  1  4  7\n",
       "1  2  5  8\n",
       "2  3  6  9"
      ]
     },
     "metadata": {
      "scrapbook": {
       "mime_prefix": "",
       "name": "df_tbl"
      }
     },
     "output_type": "display_data"
    }
   ],
   "source": [
    "df = pd.DataFrame({\"A\": [1, 2, 3], \"B\": [4, 5, 6], \"C\": [7, 8, 9]})\n",
    "glue(\"df_tbl\", df)"
   ]
  },
  {
   "cell_type": "markdown",
   "metadata": {},
   "source": [
    "```{tip}\n",
    "Since we are going to paste this figure into our document at a later point,\n",
    "you may wish to remove the output here, using the `remove_output` tag\n",
    "(see {ref}`use/removing`).\n",
    "```"
   ]
  },
  {
   "cell_type": "markdown",
   "metadata": {},
   "source": [
    "(glue/pasting)=\n",
    "\n",
    "## Pasting glued variables into your page\n",
    "\n",
    "If you have a notebook that contains glued variables, you can then **paste**\n",
    "those variables into your text anywhere you like.\n",
    "These variables can be pasted using one of the roles or directives in the `glu:` *family*."
   ]
  },
  {
   "cell_type": "markdown",
   "metadata": {},
   "source": [
    "### The `glu:any` role/directive\n",
    "\n",
    "The simplest role and directive are `glu:any`,\n",
    "which paste the glued output inline or as a block respectively,\n",
    "with no additional formatting.\n",
    "Simply add this:\n",
    "\n",
    "````\n",
    "```{glu:any} your-key\n",
    "```\n",
    "````\n",
    "\n",
    "For example, we'll paste the plot we generated above with the following text:\n",
    "\n",
    "````md\n",
    "```{glu:any} boot_fig\n",
    "```\n",
    "````\n",
    "\n",
    "Here's how it looks:\n",
    "\n",
    "```{glu:any} boot_fig\n",
    "```\n",
    "\n",
    "Or we can paste inline objects:\n",
    "\n",
    "\n",
    "```md\n",
    "Inline text; {glu:any}`boot_mean`, and figure; {glu:any}`boot_fig`.\n",
    "```\n",
    "\n",
    "Inline text; {glu:any}`boot_mean`, and figure; {glu:any}`boot_fig`.\n",
    "\n",
    "\n"
   ]
  },
  {
   "cell_type": "markdown",
   "metadata": {},
   "source": [
    "### The `glu:text` role\n",
    "\n",
    "The `glu:text` role, is specific to text outputs\n",
    "(glued variables that contain a `text/plain` mimetype).\n",
    "For example, the following text:\n",
    "\n",
    "```\n",
    "The mean of the bootstrapped distribution was {glu:text}`boot_mean` (95% confidence interval {glu:text}`boot_clo`/{glu:text}`boot_chi`).\n",
    "```\n",
    "\n",
    "Is rendered as: \n",
    "The mean of the bootstrapped distribution was {glu:text}`boot_mean` (95% confidence interval {glu:text}`boot_clo`/{glu:text}`boot_chi`)\n",
    "\n",
    "```{note}\n",
    "`glu:text` only works with glued variables that contain a `text/plain` output.\n",
    "```\n",
    "\n",
    "With `glu:text` we can add formatting to the output.\n",
    "This is particularly useful if you are displaying numbers and\n",
    "want to round the results. To add formatting, use this pattern:\n",
    "\n",
    "* `` {glu:text}`mykey:formatstring` ``\n",
    "\n",
    "For example, the following: ``My rounded mean: {glu:text}`boot_mean:.2f` `` will be rendered like this: My rounded mean: {glu:text}`boot_mean:.2f` (95% CI: {glu:text}`boot_clo:.2f`/{glu:text}`boot_chi:.2f`).\n"
   ]
  },
  {
   "cell_type": "markdown",
   "metadata": {},
   "source": [
    "### The `glu:figure` directive\n",
    "\n",
    "With `glu:figure` you can apply more formatting to figure like objects,\n",
    "such as giving them a caption and referencable label:\n",
    "\n",
    "````md\n",
    "```{glu:figure} boot_fig\n",
    ":figwidth: 300px\n",
    ":name: \"fig:boot\"\n",
    "\n",
    "This is a **caption**, with an embedded `{glu:text}` {glu:text}`boot_mean:.2f`!\n",
    "```\n",
    "````\n",
    "\n",
    "```{glu:figure} boot_fig\n",
    ":figwidth: 300px\n",
    ":name: \"fig:boot\"\n",
    "\n",
    "This is a **caption**, with an embedded `{glu:text}` {glu:text}`boot_mean:.2f`!\n",
    "```\n",
    "\n",
    "```md\n",
    "Here is a {ref}`reference to the figure <fig:boot>`\n",
    "```\n",
    "\n",
    "Here is a {ref}`reference to the figure <fig:boot>`"
   ]
  },
  {
   "cell_type": "markdown",
   "metadata": {},
   "source": [
    "Here's a table:\n",
    "\n",
    "````md\n",
    "```{glu:figure} df_tbl\n",
    ":figwidth: 300px\n",
    ":name: \"tbl:df\"\n",
    "\n",
    "A caption for a pandas table.\n",
    "```\n",
    "\n",
    "````\n",
    "```{glu:figure} df_tbl\n",
    ":figwidth: 300px\n",
    ":name: \"tbl:df\"\n",
    "\n",
    "A caption for a pandas table.\n",
    "```"
   ]
  },
  {
   "cell_type": "markdown",
   "metadata": {},
   "source": [
    "### The `glu:math` directive\n",
    "\n",
    "The `glu:math` directive, is specific to latex math outputs\n",
    "(glued variables that contain a `text/latex` mimetype),\n",
    "and works similarly to the [sphinx math directive](https://www.sphinx-doc.org/en/1.8/usage/restructuredtext/directives.html#math).\n",
    "For example:"
   ]
  },
  {
   "cell_type": "code",
   "execution_count": 7,
   "metadata": {},
   "outputs": [
    {
     "data": {
      "text/latex": [
       "$\\displaystyle \\left(\\sqrt{5} i\\right)^{\\alpha} \\left(\\frac{1}{2} - \\frac{2 \\sqrt{5} i}{5}\\right) + \\left(- \\sqrt{5} i\\right)^{\\alpha} \\left(\\frac{1}{2} + \\frac{2 \\sqrt{5} i}{5}\\right)$"
      ],
      "text/plain": [
       "(sqrt(5)*I)**\\alpha*(1/2 - 2*sqrt(5)*I/5) + (-sqrt(5)*I)**\\alpha*(1/2 + 2*sqrt(5)*I/5)"
      ]
     },
     "metadata": {
      "scrapbook": {
       "mime_prefix": "",
       "name": "sym_eq"
      }
     },
     "output_type": "display_data"
    }
   ],
   "source": [
    "import sympy as sym\n",
    "f = sym.Function('f')\n",
    "y = sym.Function('y')\n",
    "n = sym.symbols(r'\\alpha')\n",
    "f = y(n)-2*y(n-1/sym.pi)-5*y(n-2)\n",
    "glue(\"sym_eq\", sym.rsolve(f,y(n),[1,4]))"
   ]
  },
  {
   "cell_type": "markdown",
   "metadata": {},
   "source": [
    "````md\n",
    "```{glu:math} sym_eq\n",
    ":label: eq-sym\n",
    "```\n",
    "\n",
    "Equation {eq}`eq-sym`\n",
    "````\n",
    "\n",
    "```{glu:math} sym_eq\n",
    ":label: eq-sym\n",
    "```\n",
    "\n",
    "Equation {eq}`eq-sym`\n",
    "\n",
    "```{note}\n",
    "`glu:math` only works with glued variables that contain a `text/latex` output.\n",
    "```"
   ]
  }
 ],
 "metadata": {
  "kernelspec": {
   "display_name": "Python 3",
   "language": "python",
   "name": "python3"
  },
  "language_info": {
   "codemirror_mode": {
    "name": "ipython",
    "version": 3
   },
   "file_extension": ".py",
   "mimetype": "text/x-python",
   "name": "python",
   "nbconvert_exporter": "python",
   "pygments_lexer": "ipython3",
   "version": "3.7.6"
  },
  "widgets": {
   "application/vnd.jupyter.widget-state+json": {
    "state": {},
    "version_major": 2,
    "version_minor": 0
   }
  }
 },
 "nbformat": 4,
 "nbformat_minor": 4
}
