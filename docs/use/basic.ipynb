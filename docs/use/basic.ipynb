{
 "cells": [
  {
   "cell_type": "markdown",
   "metadata": {},
   "source": [
    "# An example Jupyter Notebook\n",
    "\n",
    "This notebook is a demonstration of directly-parsing Jupyter Notebooks into\n",
    "Sphinx using the MyST parser.\n",
    "\n",
    "## Markdown\n",
    "\n",
    "As you can see, markdown is parsed as expected. Embedding images should work as expected.\n",
    "For example, here's the MyST-nb logo:\n",
    "\n",
    "![](../_static/logo.png)\n",
    "\n",
    "because MyST-NB is using the MyST-markdown parser, you can include rich markdown with Sphinx\n",
    "in your notebook.[^note] For example, here's a note block:\n",
    "\n",
    "[^note]: Even footnotes!\n",
    "\n",
    "`````{note}\n",
    "Wow, a note! It was generated with this code:\n",
    "\n",
    "````\n",
    "```{note}\n",
    "Wow, a note!\n",
    "```\n",
    "````\n",
    "`````\n",
    "Other MyST features like **equation numbering** can be used in notebooks:\n",
    "\n",
    "```{math} e^{i\\pi} + 1 = 0\n",
    "---\n",
    "label: euler\n",
    "---\n",
    "```\n",
    "\n",
    "Euler's identity, equation {math:numref}`euler`, was elected one of the\n",
    "most beautiful mathematical formulas.\n",
    "\n",
    "You can see the syntax used for this example [here](https://myst-parser.readthedocs.io/en/latest/using/syntax.html#roles-an-in-line-extension-point).\n",
    "\n",
    "## Code cells and outputs\n",
    "\n",
    "You can run cells, and the cell outputs will be captured and inserted into\n",
    "the resulting Sphinx site.\n",
    "\n",
    "### `__repr__` and HTML outputs\n",
    "\n",
    "For example, here's some simple Python:"
   ]
  },
  {
   "cell_type": "code",
   "execution_count": null,
   "metadata": {},
   "outputs": [],
   "source": [
    "import matplotlib.pyplot as plt\n",
    "import numpy as np\n",
    "data = np.random.rand(3, 100) * 100\n",
    "data[:, :10]"
   ]
  },
  {
   "cell_type": "markdown",
   "metadata": {},
   "source": [
    "This will also work with HTML outputs"
   ]
  },
  {
   "cell_type": "code",
   "execution_count": null,
   "metadata": {},
   "outputs": [],
   "source": [
    "import pandas as pd\n",
    "df = pd.DataFrame(data.T, columns=['a', 'b', 'c'])\n",
    "df.head()"
   ]
  },
  {
   "cell_type": "markdown",
   "metadata": {},
   "source": [
    "This works for error messages as well:"
   ]
  },
  {
   "cell_type": "code",
   "execution_count": null,
   "metadata": {
    "tags": [
     "raises-exception"
    ]
   },
   "outputs": [],
   "source": [
    "print(\"This will be properly printed...\")\n",
    "print(thiswont)"
   ]
  },
  {
   "cell_type": "markdown",
   "metadata": {},
   "source": [
    "### Images\n",
    "\n",
    "Images that are generated from your code (e.g., with Matplotlib) will also\n",
    "be embedded."
   ]
  },
  {
   "cell_type": "code",
   "execution_count": null,
   "metadata": {},
   "outputs": [],
   "source": [
    "fig, ax = plt.subplots()\n",
    "ax.scatter(*data, c=data[2])"
   ]
  },
  {
   "cell_type": "code",
   "execution_count": null,
   "metadata": {},
   "outputs": [],
   "source": []
  }
 ],
 "metadata": {
  "kernelspec": {
   "display_name": "Python 3",
   "language": "python",
   "name": "python3"
  },
  "language_info": {
   "codemirror_mode": {
    "name": "ipython",
    "version": 3
   },
   "file_extension": ".py",
   "mimetype": "text/x-python",
   "name": "python",
   "nbconvert_exporter": "python",
   "pygments_lexer": "ipython3",
   "version": "3.8.1"
  },
  "widgets": {
   "application/vnd.jupyter.widget-state+json": {
    "state": {},
    "version_major": 2,
    "version_minor": 0
   }
  }
 },
 "nbformat": 4,
 "nbformat_minor": 4
}
